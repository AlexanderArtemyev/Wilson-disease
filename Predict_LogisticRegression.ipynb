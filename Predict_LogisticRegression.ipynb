{
 "cells": [
  {
   "cell_type": "markdown",
   "metadata": {},
   "source": [
    "## Прогноз вероятности неврологических проявлений при болезни Вильсона-Коновалова. Линейная логистическая регрессия\n",
    "\n",
    "* Импорт библиотек\n",
    "* Чтение данных\n",
    "* Группировка признаков\n",
    "* Обработка пропусков в данных\n",
    "* Отбор признаков для модели\n",
    "* Оптимизация параметров и оценка качества моделей\n",
    "* Выводы"
   ]
  },
  {
   "cell_type": "code",
   "execution_count": 1,
   "metadata": {
    "collapsed": false
   },
   "outputs": [
    {
     "name": "stdout",
     "output_type": "stream",
     "text": [
      "Populating the interactive namespace from numpy and matplotlib\n"
     ]
    }
   ],
   "source": [
    "import numpy as np\n",
    "import pandas as pd\n",
    "\n",
    "pd.set_option('display.max_columns', 70)   # Настройка отображения данных в Jupyter notebook\n",
    "pd.set_option('display.max_rows', 100)\n",
    "pd.set_option('precision', 3)\n",
    "\n",
    "%pylab inline\n",
    "# Visualization and Graphics\n",
    "%matplotlib inline\n",
    "import matplotlib.pyplot as plt\n",
    "\n",
    "# !conda install seaborn \n",
    "import seaborn as sns\n",
    "plt.rcParams['figure.figsize'] = (7,7)   # (8,6)\n",
    "\n",
    "#!pip install ggplot\n",
    "matplotlib.style.use('ggplot')       # Use ggplot style plots"
   ]
  },
  {
   "cell_type": "markdown",
   "metadata": {},
   "source": [
    "### Чтение данных"
   ]
  },
  {
   "cell_type": "code",
   "execution_count": 2,
   "metadata": {
    "collapsed": false,
    "scrolled": true
   },
   "outputs": [
    {
     "name": "stdout",
     "output_type": "stream",
     "text": [
      "Index(['TargetHead', 'TargetHeadRelativeMax', 'Sex', 'Sex M/F', 'BMI',\n",
      "       'Height', 'Mass', 'BMI_scaled', 'Height_scaled', 'Mass_scaled', 'KKF',\n",
      "       'Cirrhosis', 'ChildPugh', 'Advanced', 'Activity', 'DebutAge',\n",
      "       'DebutAge_scaled', 'DebutLiver', 'DebutNeuro', 'DebutKidney',\n",
      "       'DebutEndocr', 'DebutSibs', 'DebutVasku', 'DebutGemAnem', 'DebutSelez',\n",
      "       'DebutOther', 'F2', 'F5', 'F7', 'F13', 'ITGA2', 'ITGB3', 'PAI_1', 'FGB',\n",
      "       'MTHFR_677', 'MTHFR_1298', 'F2__1', 'F5__1', 'F7__1', 'F13__1',\n",
      "       'ITGA2__1', 'ITGB3__1', 'PAI_1__1', 'FGB__1', 'MTHFR_677__1',\n",
      "       'MTHFR_1298__1', 'F2__2', 'F5__2', 'F7__2', 'F13__2', 'ITGA2__2',\n",
      "       'ITGB3__2', 'PAI_1__2', 'FGB__2', 'MTHFR_677__2', 'MTHFR_1298__2',\n",
      "       'F2_GA', 'F2_GG', 'F5_GA', 'F5_GG', 'F7_GA', 'F7_GG', 'F13_GG',\n",
      "       'F13_GT', 'F13_TT', 'ITGA2_CC', 'ITGA2_CT', 'ITGA2_TT', 'ITGB3_TC',\n",
      "       'ITGB3_TT', 'PAI_1_4G4G', 'PAI_1_5G4G', 'PAI_1_5G5G', 'FGB_AA',\n",
      "       'FGB_GA', 'FGB_GG', 'MTHFR_677_CC', 'MTHFR_677_CT', 'MTHFR_677_TT',\n",
      "       'MTHFR_1298_AA', 'MTHFR_1298_AC', 'MTHFR_1298_CC', 'GenRisk__1',\n",
      "       'GenRisk__2', 'GenProtect__1', 'GenProtect__2'],\n",
      "      dtype='object')\n"
     ]
    }
   ],
   "source": [
    "# Чтение данных из сохранённого файла\n",
    "df_ext = pd.DataFrame()\n",
    "df_ext = pd.read_csv('../Wilson_ext.csv', sep=';', encoding='utf-8') \n",
    "print(df_ext.columns)"
   ]
  },
  {
   "cell_type": "markdown",
   "metadata": {},
   "source": [
    "### Пропуски в данных.\n",
    "Заполним пропуски **средними значениями**. Это удобно для выбранного алгоритма."
   ]
  },
  {
   "cell_type": "code",
   "execution_count": 3,
   "metadata": {
    "collapsed": false,
    "scrolled": true
   },
   "outputs": [
    {
     "name": "stdout",
     "output_type": "stream",
     "text": [
      "TargetHeadRelativeMax 71 0.5384615384615384\n",
      "BMI 1 22.89808806306615\n",
      "Height 3 1.7483950617283952\n",
      "Mass 3 70.19135802469135\n",
      "BMI_scaled 1 -0.025477984233461776\n",
      "Height_scaled 3 -0.016049382716049512\n",
      "Mass_scaled 3 0.012757201646090528\n",
      "KKF 1 0.8072289156626506\n",
      "   TargetHeadRelativeMax     BMI\n",
      "0                  0.538  24.220\n",
      "1                  0.538  19.493\n",
      "2                  0.538  21.605\n",
      "3                  0.000  18.145\n",
      "4                  1.000  21.778\n",
      "5                  0.538  21.295\n",
      "6                  0.538  17.631\n",
      "7                  0.538  22.898\n"
     ]
    }
   ],
   "source": [
    "for c in df_ext.columns:\n",
    "    number_of_na = np.sum(df_ext[c].isna())            # Needs Pandas 22.0 or higher\n",
    "    if number_of_na > 0:\n",
    "        print(c, number_of_na, df_ext[c].mean())\n",
    "\n",
    "df = df_ext.fillna(df_ext.mean())\n",
    "\n",
    "print( df_ext[['TargetHeadRelativeMax', 'BMI']].fillna(df_ext.mean()).head(8) )"
   ]
  },
  {
   "cell_type": "markdown",
   "metadata": {},
   "source": [
    "### Группировка признаков\n",
    "\n",
    "Группы выделены в соответствии со смыслом данных, форматом их представления, <br> планируемой логикой их обработки и использования.\n",
    "\n",
    "- `target_features`, \n",
    "- `relatives_features`, \n",
    "- `sex_features`, `sex_features_cat`, \n",
    "- `bmi_features`, `bmi_features_scaled`,\n",
    "- `symptom_features`, `cirrhosis_features`, \n",
    "- `debut_age_features`, `debut_age_features_scaled`,\n",
    "- `debut_organ_features`,\n",
    "- `genetic_features`, `genetic_features__1`, `genetic_features__2`, `genetic_features__dummy`, `genetic_risk_features`\n",
    "- `exclude_features`"
   ]
  },
  {
   "cell_type": "code",
   "execution_count": 4,
   "metadata": {
    "collapsed": true
   },
   "outputs": [],
   "source": [
    "target_features        = ['TargetHead']                                                    # TargetHead = ifelse(Target == 3, 1, 0)\n",
    "relatives_features     = ['TargetHeadRelativeMax']                                         # Наихудший диагноз у родсттвенников\n",
    "sex_features           = ['Sex']                                                           # Пол\n",
    "bmi_features           = ['BMI', 'Height', 'Mass']                                         # Идекс массы тела, Рост, Вес\n",
    "symptom_features       = ['KKF']                                                           # Симптом: Кольца Кайзера — Флейшера\n",
    "cirrhosis_features     = ['Cirrhosis', 'ChildPugh', 'Advanced', 'Activity']                # Цирроз: Стадия. Активность (динамика).\n",
    "debut_age_features     = ['DebutAge']                                                      # Дебют заболвания: возраст\n",
    "debut_organ_features   = ['DebutLiver', 'DebutNeuro', 'DebutKidney', 'DebutEndocr',        # Дебют заболвания: что выявили\n",
    "                          'DebutSibs', 'DebutVasku', 'DebutGemAnem', 'DebutSelez', 'DebutOther']\n",
    "genetic_features       = ['F2', 'F5', 'F7', 'F13', 'ITGA2', 'ITGB3',                       # Генетические признаки \n",
    "                          'PAI_1', 'FGB', 'MTHFR_677', 'MTHFR_1298']\n",
    "exclude_features       = ['Target', 'TargetRelativeMax']                                   # Исключить из данных\n",
    "exclude_model_features = ['FamilyID', 'DebutNeuro'] + exclude_features                     # Исключить из модели"
   ]
  },
  {
   "cell_type": "code",
   "execution_count": 5,
   "metadata": {
    "collapsed": true
   },
   "outputs": [],
   "source": [
    "num_features_to_scale     = ['BMI','Height','Mass','DebutAge']                             # Числовые показатели\n",
    "num_features_scaled       = ['BMI_scaled','Height_scaled','Mass_scaled','DebutAge_scaled']\n",
    "\n",
    "# Группировка\n",
    "bmi_features_scaled       = ['BMI_scaled','Height_scaled','Mass_scaled']\n",
    "debut_age_features_scaled = ['DebutAge_scaled']"
   ]
  },
  {
   "cell_type": "code",
   "execution_count": 6,
   "metadata": {
    "collapsed": true
   },
   "outputs": [],
   "source": [
    "sex_features_cat = ['Sex M/F']"
   ]
  },
  {
   "cell_type": "code",
   "execution_count": 7,
   "metadata": {
    "collapsed": true
   },
   "outputs": [],
   "source": [
    "genetic_features__dummy = ['F2_GA', 'F2_GG', 'F5_GA', 'F5_GG', 'F7_GA', 'F7_GG', \n",
    "                           'F13_GG', 'F13_GT', 'F13_TT', 'ITGA2_CC', 'ITGA2_CT', 'ITGA2_TT', \n",
    "                           'ITGB3_TC', 'ITGB3_TT', 'PAI_1_4G4G', 'PAI_1_5G4G', 'PAI_1_5G5G', \n",
    "                           'FGB_AA', 'FGB_GA', 'FGB_GG', 'MTHFR_677_CC', 'MTHFR_677_CT', 'MTHFR_677_TT', \n",
    "                           'MTHFR_1298_AA', 'MTHFR_1298_AC', 'MTHFR_1298_CC']\n",
    "\n",
    "genetic_features__1 = ['F2__1', 'F5__1', 'F7__1', 'F13__1', 'ITGA2__1', 'ITGB3__1', \n",
    "                       'PAI_1__1', 'FGB__1', 'MTHFR_677__1', 'MTHFR_1298__1']\n",
    "\n",
    "genetic_features__2 = ['F2__2', 'F5__2', 'F7__2', 'F13__2', 'ITGA2__2', 'ITGB3__2', \n",
    "                       'PAI_1__2', 'FGB__2', 'MTHFR_677__2', 'MTHFR_1298__2']\n",
    "\n",
    "genetic_risk_features = ['GenRisk__1', 'GenRisk__2', 'GenProtect__1', 'GenProtect__2']"
   ]
  },
  {
   "cell_type": "code",
   "execution_count": 8,
   "metadata": {
    "collapsed": true
   },
   "outputs": [],
   "source": [
    "def combine_features(all_feat_list, exclude_features):\n",
    "    combined_list = list()\n",
    "    for sublist in all_feat_list:\n",
    "        for item in sublist:\n",
    "            combined_list.append(item)\n",
    "    combined_list = [x for x in combined_list if x not in exclude_features]\n",
    "    return(combined_list)"
   ]
  },
  {
   "cell_type": "code",
   "execution_count": 9,
   "metadata": {
    "collapsed": false
   },
   "outputs": [
    {
     "name": "stdout",
     "output_type": "stream",
     "text": [
      "['TargetHead', 'TargetHeadRelativeMax', 'Sex', 'BMI', 'Height', 'Mass', 'KKF', 'Cirrhosis', 'ChildPugh', 'Advanced', 'Activity', 'DebutAge', 'DebutLiver', 'DebutNeuro', 'DebutKidney', 'DebutEndocr', 'DebutSibs', 'DebutVasku', 'DebutGemAnem', 'DebutSelez', 'DebutOther', 'F2', 'F5', 'F7', 'F13', 'ITGA2', 'ITGB3', 'PAI_1', 'FGB', 'MTHFR_677', 'MTHFR_1298']\n"
     ]
    }
   ],
   "source": [
    "data_features = combine_features([ target_features, relatives_features, sex_features, bmi_features, symptom_features, \n",
    "                                   cirrhosis_features, debut_age_features, debut_organ_features, genetic_features ],\n",
    "                                 exclude_features)\n",
    "\n",
    "print(data_features)"
   ]
  },
  {
   "cell_type": "code",
   "execution_count": 11,
   "metadata": {
    "collapsed": false
   },
   "outputs": [
    {
     "name": "stdout",
     "output_type": "stream",
     "text": [
      "['TargetHead', 'TargetHeadRelativeMax', 'Sex', 'Sex M/F', 'BMI', 'Height', 'Mass', 'BMI_scaled', 'Height_scaled', 'Mass_scaled', 'KKF', 'Cirrhosis', 'ChildPugh', 'Advanced', 'Activity', 'DebutAge', 'DebutAge_scaled', 'DebutLiver', 'DebutKidney', 'DebutEndocr', 'DebutSibs', 'DebutVasku', 'DebutGemAnem', 'DebutSelez', 'DebutOther', 'F2', 'F5', 'F7', 'F13', 'ITGA2', 'ITGB3', 'PAI_1', 'FGB', 'MTHFR_677', 'MTHFR_1298', 'F2__1', 'F5__1', 'F7__1', 'F13__1', 'ITGA2__1', 'ITGB3__1', 'PAI_1__1', 'FGB__1', 'MTHFR_677__1', 'MTHFR_1298__1', 'F2__2', 'F5__2', 'F7__2', 'F13__2', 'ITGA2__2', 'ITGB3__2', 'PAI_1__2', 'FGB__2', 'MTHFR_677__2', 'MTHFR_1298__2', 'F2_GA', 'F2_GG', 'F5_GA', 'F5_GG', 'F7_GA', 'F7_GG', 'F13_GG', 'F13_GT', 'F13_TT', 'ITGA2_CC', 'ITGA2_CT', 'ITGA2_TT', 'ITGB3_TC', 'ITGB3_TT', 'PAI_1_4G4G', 'PAI_1_5G4G', 'PAI_1_5G5G', 'FGB_AA', 'FGB_GA', 'FGB_GG', 'MTHFR_677_CC', 'MTHFR_677_CT', 'MTHFR_677_TT', 'MTHFR_1298_AA', 'MTHFR_1298_AC', 'MTHFR_1298_CC', 'GenRisk__1', 'GenRisk__2', 'GenProtect__1', 'GenProtect__2']\n"
     ]
    }
   ],
   "source": [
    "data_features_ext = combine_features(\n",
    "                       [target_features, relatives_features, \n",
    "                        sex_features, sex_features_cat, \n",
    "                        bmi_features, bmi_features_scaled,\n",
    "                        symptom_features, \n",
    "                        cirrhosis_features, \n",
    "                        debut_age_features, debut_age_features_scaled,\n",
    "                        debut_organ_features,\n",
    "                        genetic_features, genetic_features__1, genetic_features__2, genetic_features__dummy, \n",
    "                        genetic_risk_features ],\n",
    "                       exclude_model_features)\n",
    "print(data_features_ext)"
   ]
  },
  {
   "cell_type": "markdown",
   "metadata": {},
   "source": [
    "### Отбор признаков для модели"
   ]
  },
  {
   "cell_type": "code",
   "execution_count": 12,
   "metadata": {
    "collapsed": false
   },
   "outputs": [
    {
     "name": "stdout",
     "output_type": "stream",
     "text": [
      "['TargetHeadRelativeMax', 'Sex', 'BMI_scaled', 'KKF', 'Cirrhosis', 'Activity', 'DebutAge_scaled', 'DebutLiver', 'DebutKidney', 'DebutEndocr', 'DebutSibs', 'DebutVasku', 'DebutGemAnem', 'DebutSelez', 'DebutOther', 'GenRisk__2', 'GenProtect__2']\n"
     ]
    }
   ],
   "source": [
    "# Модель с генетическими факторами: 'GenRisk__2', 'GenProtect__2'\n",
    "model_features = combine_features(\n",
    "                       [\n",
    "                        # target_features, \n",
    "                        relatives_features, \n",
    "                        sex_features, #sex_features_cat, \n",
    "                        # bmi_features, \n",
    "                        [bmi_features_scaled[0]],\n",
    "                        symptom_features, \n",
    "                        [cirrhosis_features[0],cirrhosis_features[3]], \n",
    "                        # debut_age_features,\n",
    "                        debut_age_features_scaled,\n",
    "                        debut_organ_features,\n",
    "                        # genetic_features, genetic_features__1, genetic_features__2, genetic_features__dummy, \n",
    "                        [genetic_risk_features[1],genetic_risk_features[3]]\n",
    "                        ],\n",
    "                       exclude_model_features)\n",
    "print(model_features)"
   ]
  },
  {
   "cell_type": "code",
   "execution_count": 13,
   "metadata": {
    "collapsed": false
   },
   "outputs": [
    {
     "name": "stdout",
     "output_type": "stream",
     "text": [
      "['TargetHeadRelativeMax', 'Sex', 'BMI_scaled', 'KKF', 'Cirrhosis', 'Activity', 'DebutAge_scaled', 'DebutLiver', 'DebutKidney', 'DebutEndocr', 'DebutSibs', 'DebutVasku', 'DebutGemAnem', 'DebutSelez', 'DebutOther']\n"
     ]
    }
   ],
   "source": [
    "# Без генетических факторов: 'GenRisk__2', 'GenProtect__2'\n",
    "model_0_features = combine_features(\n",
    "                       [\n",
    "                        # target_features, \n",
    "                        relatives_features, \n",
    "                        sex_features, #sex_features_cat, \n",
    "                        # bmi_features, \n",
    "                        [bmi_features_scaled[0]],\n",
    "                        symptom_features, \n",
    "                        [cirrhosis_features[0],cirrhosis_features[3]], \n",
    "                        # debut_age_features,\n",
    "                        debut_age_features_scaled,\n",
    "                        debut_organ_features\n",
    "                        # genetic_features, genetic_features__1, genetic_features__2, genetic_features__dummy, \n",
    "                        #[genetic_risk_features[1],genetic_risk_features[3]]\n",
    "                        ],\n",
    "                       exclude_model_features)\n",
    "print(model_0_features)"
   ]
  },
  {
   "cell_type": "code",
   "execution_count": 14,
   "metadata": {
    "collapsed": true
   },
   "outputs": [],
   "source": [
    "X   = df[model_features]\n",
    "X_0 = df[model_0_features]\n",
    "y   = np.array(df[target_features]).T[0]"
   ]
  },
  {
   "cell_type": "code",
   "execution_count": 15,
   "metadata": {
    "collapsed": false
   },
   "outputs": [
    {
     "data": {
      "text/plain": [
       "array([0, 0, 0, 1, 0, 0, 0, 1, 0, 1, 0, 0, 1, 0, 0, 1, 0, 1, 1, 1, 1, 0, 1,\n",
       "       1, 0, 0, 0, 1, 1, 0, 0, 0, 0, 0, 0, 1, 0, 0, 0, 1, 0, 0, 0, 0, 1, 1,\n",
       "       1, 1, 0, 1, 0, 1, 0, 1, 1, 0, 0, 0, 1, 1, 0, 0, 0, 1, 0, 0, 1, 0, 0,\n",
       "       0, 0, 0, 0, 1, 0, 1, 1, 0, 0, 0, 1, 1, 0, 1], dtype=int64)"
      ]
     },
     "execution_count": 15,
     "metadata": {},
     "output_type": "execute_result"
    }
   ],
   "source": [
    "y"
   ]
  },
  {
   "cell_type": "markdown",
   "metadata": {},
   "source": [
    "### Оптимизация параметров и оценка качества моделей"
   ]
  },
  {
   "cell_type": "code",
   "execution_count": 16,
   "metadata": {
    "collapsed": true
   },
   "outputs": [],
   "source": [
    "from sklearn.linear_model    import LinearRegression, LogisticRegression, LassoCV, Lasso"
   ]
  },
  {
   "cell_type": "code",
   "execution_count": 17,
   "metadata": {
    "collapsed": true
   },
   "outputs": [],
   "source": [
    "from sklearn.model_selection import GridSearchCV\n",
    "from sklearn.model_selection import RandomizedSearchCV\n",
    "from sklearn.model_selection import StratifiedKFold"
   ]
  },
  {
   "cell_type": "code",
   "execution_count": 71,
   "metadata": {
    "collapsed": false
   },
   "outputs": [
    {
     "data": {
      "text/plain": [
       "{'C': array([  1.00000000e-06,   1.21152766e-06,   1.46779927e-06,\n",
       "          1.77827941e-06,   2.15443469e-06,   2.61015722e-06,\n",
       "          3.16227766e-06,   3.83118685e-06,   4.64158883e-06,\n",
       "          5.62341325e-06,   6.81292069e-06,   8.25404185e-06,\n",
       "          1.00000000e-05,   1.21152766e-05,   1.46779927e-05,\n",
       "          1.77827941e-05,   2.15443469e-05,   2.61015722e-05,\n",
       "          3.16227766e-05,   3.83118685e-05,   4.64158883e-05,\n",
       "          5.62341325e-05,   6.81292069e-05,   8.25404185e-05,\n",
       "          1.00000000e-04,   1.21152766e-04,   1.46779927e-04,\n",
       "          1.77827941e-04,   2.15443469e-04,   2.61015722e-04,\n",
       "          3.16227766e-04,   3.83118685e-04,   4.64158883e-04,\n",
       "          5.62341325e-04,   6.81292069e-04,   8.25404185e-04,\n",
       "          1.00000000e-03,   1.21152766e-03,   1.46779927e-03,\n",
       "          1.77827941e-03,   2.15443469e-03,   2.61015722e-03,\n",
       "          3.16227766e-03,   3.83118685e-03,   4.64158883e-03,\n",
       "          5.62341325e-03,   6.81292069e-03,   8.25404185e-03,\n",
       "          1.00000000e-02,   1.21152766e-02,   1.46779927e-02,\n",
       "          1.77827941e-02,   2.15443469e-02,   2.61015722e-02,\n",
       "          3.16227766e-02,   3.83118685e-02,   4.64158883e-02,\n",
       "          5.62341325e-02,   6.81292069e-02,   8.25404185e-02,\n",
       "          1.00000000e-01,   1.21152766e-01,   1.46779927e-01,\n",
       "          1.77827941e-01,   2.15443469e-01,   2.61015722e-01,\n",
       "          3.16227766e-01,   3.83118685e-01,   4.64158883e-01,\n",
       "          5.62341325e-01,   6.81292069e-01,   8.25404185e-01,\n",
       "          1.00000000e+00,   1.21152766e+00,   1.46779927e+00,\n",
       "          1.77827941e+00,   2.15443469e+00,   2.61015722e+00,\n",
       "          3.16227766e+00,   3.83118685e+00,   4.64158883e+00,\n",
       "          5.62341325e+00,   6.81292069e+00,   8.25404185e+00,\n",
       "          1.00000000e+01,   1.21152766e+01,   1.46779927e+01,\n",
       "          1.77827941e+01,   2.15443469e+01,   2.61015722e+01,\n",
       "          3.16227766e+01,   3.83118685e+01,   4.64158883e+01,\n",
       "          5.62341325e+01,   6.81292069e+01,   8.25404185e+01,\n",
       "          1.00000000e+02])}"
      ]
     },
     "execution_count": 71,
     "metadata": {},
     "output_type": "execute_result"
    }
   ],
   "source": [
    "kfold = StratifiedKFold(n_splits=10, random_state=42, shuffle=True)\n",
    "\n",
    "# param_grid = { 'C': np.logspace(-6, 2, 200) }\n",
    "param_grid = { 'C': np.logspace(-6, 2, 17) }\n",
    "param_grid = { 'C': np.logspace(-6, 2, 25) }\n",
    "param_grid = { 'C': np.logspace(-6, 2, 33) }\n",
    "param_grid = { 'C': np.logspace(-6, 2, 49) }\n",
    "param_grid = { 'C': np.logspace(-6, 2, 65) }\n",
    "param_grid = { 'C': np.logspace(-6, 2, 97) }\n",
    "param_grid"
   ]
  },
  {
   "cell_type": "code",
   "execution_count": 72,
   "metadata": {
    "collapsed": false
   },
   "outputs": [
    {
     "name": "stdout",
     "output_type": "stream",
     "text": [
      "grid_searcher.fit(X, y) best score: 0.802976190476 {'C': 0.38311868495572848}\n",
      "Wall time: 8.24 s\n"
     ]
    }
   ],
   "source": [
    "%%time\n",
    "\n",
    "grid_searcher = GridSearchCV(                     # For model with genetic features\n",
    "    estimator=LogisticRegression(random_state=42, penalty = 'l1'),\n",
    "    param_grid= param_grid,\n",
    "    scoring = 'roc_auc',\n",
    "    cv=kfold, n_jobs=1)\n",
    "\n",
    "grid_searcher.fit(X, y)\n",
    "print('grid_searcher.fit(X, y) best score:', grid_searcher.best_score_, grid_searcher.best_params_)"
   ]
  },
  {
   "cell_type": "code",
   "execution_count": 83,
   "metadata": {
    "collapsed": false
   },
   "outputs": [
    {
     "name": "stdout",
     "output_type": "stream",
     "text": [
      "grid_searcher_0.fit(X_0, y) best score: 0.780753968254 {'C': 1.0}\n",
      "Wall time: 7.19 s\n"
     ]
    }
   ],
   "source": [
    "%%time\n",
    "grid_searcher_0 = GridSearchCV(                  # For model without genetic features\n",
    "    estimator=LogisticRegression(random_state=42, penalty = 'l1'),\n",
    "    param_grid= param_grid,\n",
    "    scoring = 'roc_auc',\n",
    "    cv=kfold, n_jobs=1)\n",
    "\n",
    "grid_searcher_0.fit(X_0, y)\n",
    "print('grid_searcher_0.fit(X_0, y) best score:', grid_searcher_0.best_score_, grid_searcher_0.best_params_)"
   ]
  },
  {
   "cell_type": "markdown",
   "metadata": {},
   "source": [
    "#### Зависимость ROC AUC от параметра регуляризации C"
   ]
  },
  {
   "cell_type": "code",
   "execution_count": 74,
   "metadata": {
    "collapsed": true
   },
   "outputs": [],
   "source": [
    "import warnings\n",
    "warnings.filterwarnings('ignore')"
   ]
  },
  {
   "cell_type": "code",
   "execution_count": 91,
   "metadata": {
    "collapsed": false
   },
   "outputs": [
    {
     "data": {
      "text/plain": [
       "<matplotlib.text.Text at 0xc414470>"
      ]
     },
     "execution_count": 91,
     "metadata": {},
     "output_type": "execute_result"
    },
    {
     "data": {
      "image/png": "[encoded data removed]",
      "text/plain": [
       "<matplotlib.figure.Figure at 0xb061198>"
      ]
     },
     "metadata": {},
     "output_type": "display_data"
    }
   ],
   "source": [
    "results   = pd.DataFrame(grid_searcher.cv_results_)\n",
    "results_0 = pd.DataFrame(grid_searcher_0.cv_results_)\n",
    "\n",
    "#plt.plot(results['param_C'],   results['mean_train_score'],   label= 'X:  train ROC AUC')\n",
    "plt.semilogx(results['param_C'],   results['mean_test_score'],    label= 'Genetic risk used:     test data')\n",
    "#plt.plot(results_0['param_C'], results_0['mean_train_score'], label= 'X0: train ROC AUC')\n",
    "plt.semilogx(results_0['param_C'], results_0['mean_test_score'],  label= 'Genetic risk ignored: test data')\n",
    "plt.legend(loc='lower center');\n",
    "plt.title('Logistic Regression ROC AUC') \n",
    "ymin, ymax = (0.65, 0.81)\n",
    "plt.ylim( (ymin, ymax) )\n",
    "xmin, xmax = (0.05, 100)\n",
    "plt.xlim( (xmin, xmax) )\n",
    "plt.xlabel('Regualarisation C')\n",
    "plt.ylabel('ROC AUC')\n",
    "\n",
    "#results_0   #.describe().T"
   ]
  },
  {
   "cell_type": "markdown",
   "metadata": {},
   "source": [
    "### Leave-one-out cross-validation"
   ]
  },
  {
   "cell_type": "code",
   "execution_count": 85,
   "metadata": {
    "collapsed": true
   },
   "outputs": [],
   "source": [
    "from sklearn.model_selection import cross_val_score, cross_val_predict, LeaveOneOut, KFold, ShuffleSplit\n",
    "from sklearn.metrics import roc_auc_score, roc_curve\n",
    "from sklearn.metrics import auc"
   ]
  },
  {
   "cell_type": "code",
   "execution_count": 87,
   "metadata": {
    "collapsed": false
   },
   "outputs": [],
   "source": [
    "classifiers = { 'LogisticRegression C=0.38': LogisticRegression(random_state=42, penalty = 'l1', C=0.38311868495572848),\n",
    "                'LogisticRegression C=1': LogisticRegression(random_state=42, penalty = 'l1', C=1) \n",
    "                }\n"
   ]
  },
  {
   "cell_type": "code",
   "execution_count": 88,
   "metadata": {
    "collapsed": true
   },
   "outputs": [],
   "source": [
    "#def get_cross_val_score(X, y, Classifier, fit_params, cv, method='predict_proba'):\n",
    "#    cv_predictions = cross_val_predict(Classifier, X, y,\n",
    "#                                       method='predict_proba',\n",
    "#                                       cv=LeaveOneOut() ) #  cv=10)"
   ]
  },
  {
   "cell_type": "code",
   "execution_count": 90,
   "metadata": {
    "collapsed": false
   },
   "outputs": [
    {
     "data": {
      "image/png": "[encoded data removed]",
      "text/plain": [
       "<matplotlib.figure.Figure at 0xc356828>"
      ]
     },
     "metadata": {},
     "output_type": "display_data"
    }
   ],
   "source": [
    "name  = \"Genetic risk included.\"\n",
    "clf = LogisticRegression(random_state=42, penalty = 'l1', C=0.38311868495572848) \n",
    "cv_predictions = cross_val_predict(clf, X, y,\n",
    "                                       method='predict_proba',\n",
    "                                       cv=LeaveOneOut() ) #  cv=10)\n",
    "\n",
    "\n",
    "name_0  = \"Genetic risk ignored.\"\n",
    "clf_0 = LogisticRegression(random_state=42, penalty = 'l1', C=1)\n",
    "cv_predictions_0 = cross_val_predict(clf_0, X_0, y,\n",
    "                                       method='predict_proba',\n",
    "                                       cv=LeaveOneOut() ) #  cv=10)\n",
    "\n",
    "fpr,   tpr,   thresh = roc_curve(y, cv_predictions[: ,1])\n",
    "fpr_0, tpr_0, thresh = roc_curve(y, cv_predictions_0[: ,1])\n",
    "    \n",
    "figure(figsize=(8,8))\n",
    "plt.plot([0,1],[0,1],color='darkgray')\n",
    "plt.plot([0,0],[0,1],color='darkgray')\n",
    "plt.plot([0,1],[0,0],color='darkgray')\n",
    "plt.plot([0,1],[1,1],color='darkgray')\n",
    "plt.plot([1,1],[0,1],color='darkgray')\n",
    "\n",
    "plt.plot(fpr,   tpr,   label= name  \n",
    "                              + ' ROC AUC=' + str( round(auc(fpr,   tpr  )*1000)/1000. ) )\n",
    "plt.plot(fpr_0, tpr_0, label= name_0\n",
    "                              + '  ROC AUC=' + str( round(auc(fpr_0, tpr_0)*1000)/1000. ) )\n",
    "\n",
    "xlabel('False Positive Rate')\n",
    "ylabel('True Positive Rate')\n",
    "title('Logistic Regression. ROC кривая')\n",
    "legend(loc='lower center');\n",
    "\n",
    "plt.savefig('LogRegression.png', bbox_inches='tight')"
   ]
  },
  {
   "cell_type": "markdown",
   "metadata": {},
   "source": [
    "#### Выводы\n",
    "* При изменении параметра регяляризации $C = 1/\\gamma$, при малых C лучшее качество -- у предсказателя, использующего генетические факторы риска, а при больших -- у игнорирующего их.\n",
    "* Комбинированные генетические факторы риска тромобза способствовуют уточнению предсказания LogisticRegression по метрике ROC AUC: с 0.729 до 0.774. <br> Статистическая достоверность не оценивалась.\n"
   ]
  },
  {
   "cell_type": "code",
   "execution_count": null,
   "metadata": {
    "collapsed": true
   },
   "outputs": [],
   "source": []
  }
 ],
 "metadata": {
  "kernelspec": {
   "display_name": "Python 3",
   "language": "python",
   "name": "python3"
  },
  "language_info": {
   "codemirror_mode": {
    "name": "ipython",
    "version": 3
   },
   "file_extension": ".py",
   "mimetype": "text/x-python",
   "name": "python",
   "nbconvert_exporter": "python",
   "pygments_lexer": "ipython3",
   "version": "3.5.3"
  }
 },
 "nbformat": 4,
 "nbformat_minor": 0
}
