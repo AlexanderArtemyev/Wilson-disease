{
 "cells": [
  {
   "cell_type": "markdown",
   "metadata": {},
   "source": [
    "## Форматирование и обогащение данных\n",
    "### Форматирование, удобное для изучения и машинного обучения\n",
    "#### Загрузка библиотек"
   ]
  },
  {
   "cell_type": "code",
   "execution_count": null,
   "metadata": {
    "collapsed": true
   },
   "outputs": [],
   "source": [
    "import numpy  as np\n",
    "import pandas as pd"
   ]
  },
  {
   "cell_type": "code",
   "execution_count": null,
   "metadata": {
    "collapsed": true
   },
   "outputs": [],
   "source": [
    "# Настройка отображения данных в Jupyter notebook\n",
    "pd.set_option('display.max_columns', 70)\n",
    "pd.set_option('display.max_rows', 100)\n",
    "pd.set_option('precision', 3)"
   ]
  },
  {
   "cell_type": "code",
   "execution_count": null,
   "metadata": {
    "collapsed": false
   },
   "outputs": [],
   "source": [
    "# Visualization and Graphics\n",
    "%pylab inline\n",
    "%matplotlib inline\n",
    "import matplotlib.pyplot as plt\n",
    "# !conda install seaborn \n",
    "import seaborn as sns\n",
    "plt.rcParams['figure.figsize'] = (7,7)   # (8,6)\n",
    "\n",
    "#!pip install ggplot\n",
    "matplotlib.style.use('ggplot')       # Use ggplot style plots"
   ]
  },
  {
   "cell_type": "markdown",
   "metadata": {},
   "source": [
    "## Обработка данных\n",
    "### Первичная очистка\n",
    "Первичная очистка и форматирование данных сделаны с помощью preprocess_data.R:\n",
    "<br> [`preprocess_data.R`](https://github.com/AlexanderArtemyev/Wilson-disease/blob/master/preprocess_data.R) в кодировке cp1251. \n",
    "<br> [`preprocess_data.utf8.R`](https://github.com/AlexanderArtemyev/Wilson-disease/blob/master/preprocess_data.utf8.R) в кодировке utf-8."
   ]
  },
  {
   "cell_type": "markdown",
   "metadata": {},
   "source": [
    "### Чтение очищеных данных"
   ]
  },
  {
   "cell_type": "code",
   "execution_count": null,
   "metadata": {
    "collapsed": false
   },
   "outputs": [],
   "source": [
    "df = pd.read_csv('../Wilson_2/Wilson_anonym.csv', sep=';', encoding='cp1251')\n",
    "df.head(5).tail(3)"
   ]
  },
  {
   "cell_type": "markdown",
   "metadata": {},
   "source": [
    "### Группировка и комбинирование признаков\n",
    "#### Группы признаков\n",
    "Группы выделены в соответствии со смыслом данных, логикой их использования и обработки, форматом представления данных.\n",
    "- `target`\n",
    "- `relatives`\n",
    "- `sex`, `sex_cat`\n",
    "- `bmi`, `bmi_scaled`\n",
    "- `symptom`\n",
    "- `cirrhosis`\n",
    "- `activity`\n",
    "- `debut_age`, `debut_age_scaled`\n",
    "- `debut_organ`\n",
    "- `genetic`\n",
    "- `genetic_dummy`\n",
    "- `genetic__1`, `genetic__2`\n",
    "- `genetic_risk__1`, `genetic_risk__2`\n",
    "- `genetic_risk__1_scaled`, `genetic_risk__2_scaled`\n",
    "- `data`\n",
    "- `exclude`, `exclude_model`\n",
    "\n",
    "<br> Вспомогательные признаки\n",
    "- `num_to_scale`\n",
    "- `num_scaled`\n",
    "- `genetic_risk`\n",
    "- `genetic_risk_scaled`"
   ]
  },
  {
   "cell_type": "code",
   "execution_count": null,
   "metadata": {
    "collapsed": false
   },
   "outputs": [],
   "source": [
    "target        = ['TargetHead']                                               # TargetHead = ifelse(Target == 3, 1, 0)\n",
    "relatives     = ['TargetHeadRelativeMax']                                    # Наихудший диагноз у родсттвенников\n",
    "sex           = ['Sex']                                                      # Пол\n",
    "bmi           = ['BMI', 'Height', 'Mass']                                    # Идекс массы тела, Рост, Вес\n",
    "symptom       = ['KKF']                                                      # Симптом: Кольца Кайзера — Флейшера\n",
    "cirrhosis     = ['Cirrhosis', 'ChildPugh', 'Advanced']                       # Цирроз: Стадия.\n",
    "activity      = ['Activity']                                                 # Скорость прогрессирования цирроза, активность (динамика).\n",
    "debut_age     = ['DebutAge']                                                 # Дебют заболвания: возраст\n",
    "debut_organ   = ['DebutLiver', 'DebutNeuro', 'DebutKidney', 'DebutEndocr',   # Дебют заболвания: что выявили\n",
    "                          'DebutSibs', 'DebutVasku', 'DebutGemAnem', 'DebutSelez', 'DebutOther']\n",
    "genetic       = ['F2', 'F5', 'F7', 'F13', 'ITGA2', 'ITGB3',                  # Генетические признаки \n",
    "                          'PAI_1', 'FGB', 'MTHFR_677', 'MTHFR_1298']\n",
    "exclude       = ['Target', 'TargetRelativeMax']                              # Исключить из данных\n",
    "exclude_model = ['FamilyID', 'DebutNeuro'] + exclude                         # Исключить из модели"
   ]
  },
  {
   "cell_type": "code",
   "execution_count": null,
   "metadata": {
    "collapsed": true
   },
   "outputs": [],
   "source": [
    "features = [\n",
    "    ('target',          target),\n",
    "    ('relatives',       relatives),\n",
    "    ('sex',             sex),\n",
    "    ('bmi',             bmi),\n",
    "    ('symptom',         symptom),\n",
    "    ('cirrhosis',       cirrhosis),\n",
    "    ('activity',        activity),\n",
    "    ('debut_age',       debut_age),\n",
    "    ('debut_organ',     debut_organ),\n",
    "    ('genetic',         genetic),\n",
    "    ('exclude',         exclude),\n",
    "    ('exclude_model',   exclude_model)\n",
    "]"
   ]
  },
  {
   "cell_type": "markdown",
   "metadata": {},
   "source": [
    "#### Комбинирование признаков: объединение и исключение групп"
   ]
  },
  {
   "cell_type": "code",
   "execution_count": null,
   "metadata": {
    "collapsed": true
   },
   "outputs": [],
   "source": [
    "def combine_features(all_feat_list, exclude_features):\n",
    "    combined_list = list()\n",
    "    for sublist in all_feat_list:\n",
    "        for item in sublist:\n",
    "            combined_list.append(item)\n",
    "    combined_list = [x for x in combined_list if x not in exclude_features]\n",
    "    return(combined_list)"
   ]
  },
  {
   "cell_type": "code",
   "execution_count": null,
   "metadata": {
    "collapsed": false
   },
   "outputs": [],
   "source": [
    "# Do we need this cell?\n",
    "data_features = combine_features([ target, relatives, sex, bmi, symptom, \n",
    "                                   cirrhosis, activity, debut_age, debut_organ, genetic ],\n",
    "                                 exclude)\n",
    "\n",
    "print(data_features)\n",
    "\n",
    "features = features + [('data', data_features)]"
   ]
  },
  {
   "cell_type": "markdown",
   "metadata": {},
   "source": [
    "### Приведение данных к виду, удобному для изучения и машинного обучения\n",
    "1. Масштабирование числовых признаков\n",
    "2. Формат пола\n",
    "3. Обогащение, группировка, масштабирование генетических признаков"
   ]
  },
  {
   "cell_type": "markdown",
   "metadata": {},
   "source": [
    "#### Масштабирование числовых признаков"
   ]
  },
  {
   "cell_type": "code",
   "execution_count": null,
   "metadata": {
    "collapsed": false
   },
   "outputs": [],
   "source": [
    "df['BMI_scaled']      = (df['BMI'].copy() - 23) / 4\n",
    "df['Height_scaled']   = (df['Height'].copy() - 1.75) / 0.1\n",
    "df['Mass_scaled']     = (df['Mass'].copy() - 70) / 15\n",
    "df['DebutAge_scaled'] = (df['DebutAge'].copy() - 18) / 8"
   ]
  },
  {
   "cell_type": "code",
   "execution_count": null,
   "metadata": {
    "collapsed": true
   },
   "outputs": [],
   "source": [
    "num_to_scale     = ['BMI','Height','Mass','DebutAge']\n",
    "num_scaled       = ['BMI_scaled','Height_scaled','Mass_scaled','DebutAge_scaled']\n",
    "bmi_scaled       = ['BMI_scaled','Height_scaled','Mass_scaled']\n",
    "debut_age_scaled = ['DebutAge_scaled']"
   ]
  },
  {
   "cell_type": "code",
   "execution_count": null,
   "metadata": {
    "collapsed": true
   },
   "outputs": [],
   "source": [
    "features = features + [('num_to_scale',     num_to_scale)]\n",
    "features = features + [('num_scaled',       num_scaled)]\n",
    "features = features + [('bmi_scaled',       bmi_scaled)]\n",
    "features = features + [('debut_age_scaled', debut_age_scaled)]"
   ]
  },
  {
   "cell_type": "code",
   "execution_count": null,
   "metadata": {
    "collapsed": false
   },
   "outputs": [],
   "source": [
    "print( df[num_to_scale].describe() )\n",
    "print( df[num_scaled].describe() )"
   ]
  },
  {
   "cell_type": "markdown",
   "metadata": {},
   "source": [
    "#### Формат пола: M, F"
   ]
  },
  {
   "cell_type": "code",
   "execution_count": null,
   "metadata": {
    "collapsed": true
   },
   "outputs": [],
   "source": [
    "def convert_sex(x):\n",
    "    if x == 1:\n",
    "        return 'M'\n",
    "    else:\n",
    "        return 'F'\n",
    "\n",
    "df['Sex M/F'] = df.Sex.apply(func=convert_sex)"
   ]
  },
  {
   "cell_type": "code",
   "execution_count": null,
   "metadata": {
    "collapsed": true
   },
   "outputs": [],
   "source": [
    "sex_cat = ['Sex M/F']\n",
    "\n",
    "features = features + [('sex_cat', sex_cat)]"
   ]
  },
  {
   "cell_type": "markdown",
   "metadata": {},
   "source": [
    "#### Обогащение, группировка, масштабирование генетических признаков\n",
    "##### Инициализация"
   ]
  },
  {
   "cell_type": "code",
   "execution_count": null,
   "metadata": {
    "collapsed": true
   },
   "outputs": [],
   "source": [
    "data_features_ext = combine_features(\n",
    "                       [target, relatives, \n",
    "                        sex, sex_cat, \n",
    "                        bmi, bmi_scaled,\n",
    "                        symptom, \n",
    "                        cirrhosis, activity,\n",
    "                        debut_age, debut_age_scaled,\n",
    "                        debut_organ,\n",
    "                        genetic ],\n",
    "                       exclude)"
   ]
  },
  {
   "cell_type": "code",
   "execution_count": null,
   "metadata": {
    "collapsed": false
   },
   "outputs": [],
   "source": [
    "df_ext = df[data_features_ext]\n",
    "df_ext.head(4)"
   ]
  },
  {
   "cell_type": "markdown",
   "metadata": {},
   "source": [
    "##### Dummy encoding для генетических признаков."
   ]
  },
  {
   "cell_type": "code",
   "execution_count": null,
   "metadata": {
    "collapsed": false
   },
   "outputs": [],
   "source": [
    "df_dummies = pd.get_dummies(df[genetic], prefix=None, prefix_sep='_', dummy_na=False, \n",
    "                columns=genetic, sparse=False, drop_first=False)\n",
    "\n",
    "df_ext = pd.concat([df_ext, df_dummies], axis = 1)   # https://pandas.pydata.org/pandas-docs/stable/merging.html\n",
    "df_dummies.head(3)"
   ]
  },
  {
   "cell_type": "code",
   "execution_count": null,
   "metadata": {
    "collapsed": false
   },
   "outputs": [],
   "source": [
    "genetic_dummy = list( df_dummies.columns )\n",
    "\n",
    "print(genetic)\n",
    "print(genetic_dummy)"
   ]
  },
  {
   "cell_type": "code",
   "execution_count": null,
   "metadata": {
    "collapsed": false
   },
   "outputs": [],
   "source": [
    "features = features + [('genetic_dummy', genetic_dummy)]"
   ]
  },
  {
   "cell_type": "markdown",
   "metadata": {},
   "source": [
    "##### Формальное отображение каждого из генетических признаков в массив [0,1,2]"
   ]
  },
  {
   "cell_type": "code",
   "execution_count": null,
   "metadata": {
    "collapsed": false
   },
   "outputs": [],
   "source": [
    "gen_map_1 = [\n",
    "          {\"F2\":         {\"GG\":0,   \"GA\":1,   \"AA\":2}},\n",
    "          {\"F5\":         {\"GG\":0,   \"GA\":1,   \"AA\":2}},\n",
    "          {\"F7\":         {\"GG\":0,   \"GA\":1,   \"AA\":2}},\n",
    "          {\"F13\":        {\"GG\":0,   \"GT\":1,   \"TT\":2}},\n",
    "          {\"ITGA2\":      {\"CC\":0,   \"CT\":1,   \"TT\":2}},\n",
    "          {\"ITGB3\":      {\"TT\":0,   \"TC\":1,   \"CC\":2}},\n",
    "          {\"PAI_1\":      {\"5G5G\":0, \"5G4G\":1, \"4G4G\":2}},\n",
    "          {\"FGB\":        {\"GG\":0,   \"GA\":1,   \"AA\":2}},\n",
    "          {\"MTHFR_677\":  {\"CC\":0,   \"CT\":1,   \"TT\":2}},\n",
    "          {\"MTHFR_1298\": {\"AA\":0,   \"AC\":1,   \"CC\":2}}\n",
    "\n",
    "    ]\n",
    "\n",
    "df_1 = pd.DataFrame()\n",
    "for m in gen_map_1:    \n",
    "    [(k,v)] = m.items()\n",
    "    #print(k,v)\n",
    "    df_1[k + '__1'] = df[k].map(v)\n",
    "\n",
    "df_ext = pd.concat([df_ext, df_1], axis = 1)   # https://pandas.pydata.org/pandas-docs/stable/merging.html\n",
    "\n",
    "df_1.head(3)"
   ]
  },
  {
   "cell_type": "code",
   "execution_count": null,
   "metadata": {
    "collapsed": false
   },
   "outputs": [],
   "source": [
    "genetic__1 = list( df_1.columns )\n",
    "print(genetic__1)\n",
    "\n",
    "features = features + [('genetic__1',     genetic__1)]"
   ]
  },
  {
   "cell_type": "markdown",
   "metadata": {},
   "source": [
    "##### Отображение генетических признаков  в массивы [0,1,2] <br> с помощью открытых баз знаний медицинских лабораторий: helix.ru, invitro.ru"
   ]
  },
  {
   "cell_type": "code",
   "execution_count": null,
   "metadata": {
    "collapsed": false
   },
   "outputs": [],
   "source": [
    "gen_map_2 = [\n",
    "          {\"F2\":          {\"GG\":0,   \"GA\":1,   \"AA\":2}},\n",
    "          {\"F5\":          {\"GG\":0,   \"GA\":1,   \"AA\":2}},\n",
    "          {\"F7\":          {\"GG\":0,   \"GA\":-1,  \"AA\":-2}},\n",
    "          {\"F13\":         {\"GG\":0,   \"GT\":0,   \"TT\":-1}},\n",
    "          {\"ITGA2\":       {\"CC\":0,   \"CT\":0,   \"TT\":1}},\n",
    "          {\"ITGB3\":       {\"TT\":0,   \"TC\":1,   \"CC\":2}},\n",
    "          {\"PAI_1\":       {\"5G5G\":0, \"5G4G\":0, \"4G4G\":1}},\n",
    "          {\"FGB\":         {\"GG\":0,   \"GA\":1,   \"AA\":2}},\n",
    "          {\"MTHFR_677\":   {\"CC\":0,   \"CT\":0,   \"TT\":1}},\n",
    "          {\"MTHFR_1298\":  {\"AA\":0,   \"AC\":1,   \"CC\":2}}\n",
    "        ]\n",
    "\n",
    "df_2 = pd.DataFrame()\n",
    "for m in gen_map_2:    \n",
    "    [(k,v)] = m.items()\n",
    "    df_2[k + '__2'] = df[k].map(v)\n",
    "\n",
    "df_ext = pd.concat([df_ext, df_2], axis = 1)   # https://pandas.pydata.org/pandas-docs/stable/merging.html\n",
    "\n",
    "df_2.head(3)"
   ]
  },
  {
   "cell_type": "code",
   "execution_count": null,
   "metadata": {
    "collapsed": false
   },
   "outputs": [],
   "source": [
    "genetic__2 = list( df_2.columns )\n",
    "print(genetic__2)\n",
    "\n",
    "features = features + [('genetic__2', genetic__2)]"
   ]
  },
  {
   "cell_type": "markdown",
   "metadata": {},
   "source": [
    "#### Комбинации генетических признаков.\n",
    "\n",
    "Группировка, суммы по группам, масштабирование сумм генетических факторов увеличения или снижения риска тромбофилии. <br>\n",
    "Выбор признаков - опираясь на базы знаний коммерческих лабораторий."
   ]
  },
  {
   "cell_type": "code",
   "execution_count": null,
   "metadata": {
    "collapsed": true
   },
   "outputs": [],
   "source": [
    "genetic_guess = [\n",
    "    {'GenRisk__1':['F2__1', 'F5__1', 'ITGA2__1', 'ITGB3__1', 'PAI_1__1', 'FGB__1', 'MTHFR_677__1', 'MTHFR_1298__1']},\n",
    "    {'GenRisk__2':['F2__2', 'F5__2', 'ITGA2__2', 'ITGB3__2', 'PAI_1__2', 'FGB__2', 'MTHFR_677__2', 'MTHFR_1298__2']},\n",
    "    {'GenProtect__1':['F7__1', 'F13__1']},\n",
    "    {'GenProtect__2':['F7__2', 'F13__2']} ]\n",
    "\n",
    "df_gg = pd.DataFrame()\n",
    "for g in genetic_guess:\n",
    "    #print(g)       #print( g.items() )         #print( k,v )\n",
    "    [(k,v)] = g.items()\n",
    "    df_gg[k] = np.array(df_ext[v].sum(axis=1))\n",
    "\n",
    "df_ext = pd.concat([df_ext, df_gg], axis=1)   # https://pandas.pydata.org/pandas-docs/stable/merging.html"
   ]
  },
  {
   "cell_type": "code",
   "execution_count": null,
   "metadata": {
    "collapsed": false
   },
   "outputs": [],
   "source": [
    "genetic_risk__1 = ['GenRisk__1', 'GenProtect__1']\n",
    "genetic_risk__2 = ['GenRisk__2', 'GenProtect__2']\n",
    "genetic_risk    = ['GenRisk__1', 'GenRisk__2', 'GenProtect__1', 'GenProtect__2']\n",
    "\n",
    "features = features + [('genetic_risk__1', genetic_risk__1)]\n",
    "features = features + [('genetic_risk__2', genetic_risk__2)]\n",
    "features = features + [('genetic_risk',    genetic_risk)]"
   ]
  },
  {
   "cell_type": "code",
   "execution_count": null,
   "metadata": {
    "collapsed": false
   },
   "outputs": [],
   "source": [
    "df_ext[genetic_risk].head(3)"
   ]
  },
  {
   "cell_type": "markdown",
   "metadata": {},
   "source": [
    "#### Масштабируем генетические признаки"
   ]
  },
  {
   "cell_type": "code",
   "execution_count": null,
   "metadata": {
    "collapsed": false,
    "scrolled": true
   },
   "outputs": [],
   "source": [
    "print( df_ext[genetic_risk].describe() )"
   ]
  },
  {
   "cell_type": "code",
   "execution_count": null,
   "metadata": {
    "collapsed": false
   },
   "outputs": [],
   "source": [
    "df_ext['GenRisk__1_scaled']    = (df_ext['GenRisk__1'].copy()    - 4.23)  / 1.55\n",
    "df_ext['GenRisk__2_scaled']    = (df_ext['GenRisk__2'].copy()    - 2.24)  / 1.29\n",
    "df_ext['GenProtect__1_scaled'] = (df_ext['GenProtect__1'].copy() - 0.81) / 0.74\n",
    "df_ext['GenProtect__2_scaled'] = (df_ext['GenProtect__2'].copy() + 0.32) / 0.50"
   ]
  },
  {
   "cell_type": "code",
   "execution_count": null,
   "metadata": {
    "collapsed": true
   },
   "outputs": [],
   "source": [
    "genetic_risk__1_scaled = ['GenRisk__1_scaled', 'GenProtect__1_scaled']\n",
    "genetic_risk__2_scaled = ['GenRisk__2_scaled', 'GenProtect__2_scaled']\n",
    "genetic_risk_scaled    = ['GenRisk__1_scaled',    'GenRisk__2_scaled', \n",
    "                          'GenProtect__1_scaled', 'GenProtect__2_scaled']\n",
    "\n",
    "# Remove last 3 elements from the list\n",
    "# features = features[:-3]\n",
    "#[0,1,2,3,4,5,6,7,8,9][:-3]\n",
    "\n",
    "features = features + [('genetic_risk__1_scaled', genetic_risk__1_scaled)]\n",
    "features = features + [('genetic_risk__2_scaled', genetic_risk__2_scaled)]\n",
    "features = features + [('genetic_risk_scaled',    genetic_risk_scaled)]"
   ]
  },
  {
   "cell_type": "code",
   "execution_count": null,
   "metadata": {
    "collapsed": false
   },
   "outputs": [],
   "source": [
    "print( df_ext[genetic_risk_scaled].describe() )"
   ]
  },
  {
   "cell_type": "markdown",
   "metadata": {},
   "source": [
    "### Сохраняем обработанные данные и группы колонок\n",
    "#### Сохраняем данные"
   ]
  },
  {
   "cell_type": "code",
   "execution_count": null,
   "metadata": {
    "collapsed": false
   },
   "outputs": [],
   "source": [
    "data_features_ext = combine_features(\n",
    "                       [target, relatives, \n",
    "                        sex, sex_cat, \n",
    "                        bmi, bmi_scaled,\n",
    "                        symptom, \n",
    "                        cirrhosis, activity,\n",
    "                        debut_age, debut_age_scaled,\n",
    "                        debut_organ,\n",
    "                        genetic, genetic__1, genetic__2, \n",
    "                        genetic_dummy,\n",
    "                        genetic_risk__1, genetic_risk__2, \n",
    "                        genetic_risk__1_scaled, genetic_risk__2_scaled\n",
    "                       ],\n",
    "                       exclude)"
   ]
  },
  {
   "cell_type": "code",
   "execution_count": null,
   "metadata": {
    "collapsed": false
   },
   "outputs": [],
   "source": [
    "print(data_features_ext)"
   ]
  },
  {
   "cell_type": "markdown",
   "metadata": {},
   "source": [
    "#### Запись данных в файл: `pd.to_cvs`\n",
    "https://pandas.pydata.org/pandas-docs/stable/generated/pandas.DataFrame.to_csv.html\n",
    "<br> https://stackoverflow.com/questions/27370046/closing-file-after-using-to-csv"
   ]
  },
  {
   "cell_type": "code",
   "execution_count": null,
   "metadata": {
    "collapsed": false
   },
   "outputs": [],
   "source": [
    "outfile = open('Wilson_ext.csv', 'w')\n",
    "df_ext[data_features_ext].to_csv(outfile, sep=';', index=False, encoding='utf-8', chunksize=1)\n",
    "outfile.close()"
   ]
  },
  {
   "cell_type": "markdown",
   "metadata": {},
   "source": [
    "#### Чтение данных из сохранённого файла"
   ]
  },
  {
   "cell_type": "code",
   "execution_count": null,
   "metadata": {
    "collapsed": false
   },
   "outputs": [],
   "source": [
    "df_ext2 = pd.read_csv('Wilson_ext.csv', sep=';', encoding='utf-8') \n",
    "print(df_ext2.columns)"
   ]
  },
  {
   "cell_type": "markdown",
   "metadata": {},
   "source": [
    "#### Сохраняем группы колонок\n",
    "Сохраняем в формате `json`. Библиотека `simplejson`. \n",
    "\n",
    "Адаптировал к Python 3 утилиты `data_to_json` и `json_to_data`  из статьи [Serializing Python Data To Json - Some Edge Cases](http://robotfantastic.org/serializing-python-data-to-json-some-edge-cases.html) by Chris Wagner."
   ]
  },
  {
   "cell_type": "code",
   "execution_count": null,
   "metadata": {
    "collapsed": false
   },
   "outputs": [],
   "source": [
    "# !conda install simplejson\n",
    "%run data_to_json"
   ]
  },
  {
   "cell_type": "code",
   "execution_count": null,
   "metadata": {
    "collapsed": true
   },
   "outputs": [],
   "source": [
    "from collections import OrderedDict"
   ]
  },
  {
   "cell_type": "code",
   "execution_count": null,
   "metadata": {
    "collapsed": false,
    "scrolled": true
   },
   "outputs": [],
   "source": [
    "json_to_data(data_to_json(OrderedDict(features)))['bmi']  # ['target']"
   ]
  },
  {
   "cell_type": "code",
   "execution_count": null,
   "metadata": {
    "collapsed": false
   },
   "outputs": [],
   "source": [
    "# json_format = json.dumps(features)\n",
    "# json.loads(json_format, object_pairs_hook=OrderedDict)"
   ]
  },
  {
   "cell_type": "code",
   "execution_count": null,
   "metadata": {
    "collapsed": true
   },
   "outputs": [],
   "source": [
    "features_file = open('features_file.json', 'w')\n",
    "with features_file:\n",
    "    features_file.write( data_to_json(OrderedDict(features)) )\n",
    "    # json.dump(json_format, features_file)\n",
    "features_file.close()"
   ]
  },
  {
   "cell_type": "markdown",
   "metadata": {},
   "source": [
    "##### Прочтём и проверим, что получилось"
   ]
  },
  {
   "cell_type": "code",
   "execution_count": null,
   "metadata": {
    "collapsed": false
   },
   "outputs": [],
   "source": [
    "features_file = open('features_file.json', 'r')\n",
    "features_loaded = json_to_data( features_file.read() )\n",
    "#features_loaded = json.load(features_file, object_pairs_hook=OrderedDict)\n",
    "features_file.close()\n",
    "\n",
    "print(features_loaded)\n",
    "type(features_loaded)"
   ]
  },
  {
   "cell_type": "code",
   "execution_count": null,
   "metadata": {
    "collapsed": false
   },
   "outputs": [],
   "source": [
    "features_loaded[\"target\"]"
   ]
  },
  {
   "cell_type": "code",
   "execution_count": null,
   "metadata": {
    "collapsed": false
   },
   "outputs": [],
   "source": [
    "for (k,v) in features_loaded.items():\n",
    "    print(k)"
   ]
  },
  {
   "cell_type": "code",
   "execution_count": null,
   "metadata": {
    "collapsed": true
   },
   "outputs": [],
   "source": []
  }
 ],
 "metadata": {
  "kernelspec": {
   "display_name": "Python 3",
   "language": "python",
   "name": "python3"
  },
  "language_info": {
   "codemirror_mode": {
    "name": "ipython",
    "version": 3
   },
   "file_extension": ".py",
   "mimetype": "text/x-python",
   "name": "python",
   "nbconvert_exporter": "python",
   "pygments_lexer": "ipython3",
   "version": "3.5.3"
  }
 },
 "nbformat": 4,
 "nbformat_minor": 2
}
