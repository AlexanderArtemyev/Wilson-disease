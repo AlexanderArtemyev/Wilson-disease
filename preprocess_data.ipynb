{
 "cells": [
  {
   "cell_type": "markdown",
   "metadata": {},
   "source": [
    "## Форматирование и обогащение данных\n",
    "### Форматирование, удобное для изучения и машинного обучения"
   ]
  },
  {
   "cell_type": "code",
   "execution_count": 47,
   "metadata": {},
   "outputs": [],
   "source": [
    "import numpy  as np\n",
    "import pandas as pd"
   ]
  },
  {
   "cell_type": "code",
   "execution_count": 48,
   "metadata": {},
   "outputs": [],
   "source": [
    "# Настройка отображения данных в Jupyter notebook\n",
    "pd.set_option('display.max_columns', 70)\n",
    "pd.set_option('display.max_rows', 100)\n",
    "pd.set_option('precision', 3)"
   ]
  },
  {
   "cell_type": "code",
   "execution_count": 49,
   "metadata": {},
   "outputs": [
    {
     "name": "stdout",
     "output_type": "stream",
     "text": [
      "Populating the interactive namespace from numpy and matplotlib\n"
     ]
    }
   ],
   "source": [
    "# Visualization and Graphics\n",
    "%pylab inline\n",
    "%matplotlib inline\n",
    "import matplotlib.pyplot as plt\n",
    "# !conda install seaborn \n",
    "import seaborn as sns\n",
    "plt.rcParams['figure.figsize'] = (7,7)   # (8,6)\n",
    "\n",
    "#!pip install ggplot\n",
    "matplotlib.style.use('ggplot')       # Use ggplot style plots"
   ]
  },
  {
   "cell_type": "markdown",
   "metadata": {},
   "source": [
    "## Обработка данных\n",
    "### Первичная очистка\n",
    "Первичная очистка и форматирование данных сделаны с помощью preprocess_data.R:\n",
    "<br> [`preprocess_data.R`](https://github.com/AlexanderArtemyev/Wilson-disease/blob/master/preprocess_data.R) в кодировке cp1251. \n",
    "<br> [`preprocess_data.utf8.R`](https://github.com/AlexanderArtemyev/Wilson-disease/blob/master/preprocess_data.utf8.R) в кодировке utf-8."
   ]
  },
  {
   "cell_type": "markdown",
   "metadata": {},
   "source": [
    "### Чтение очищеных данных"
   ]
  },
  {
   "cell_type": "code",
   "execution_count": 50,
   "metadata": {},
   "outputs": [
    {
     "data": {
      "text/html": [
       "<div>\n",
       "<style scoped>\n",
       "    .dataframe tbody tr th:only-of-type {\n",
       "        vertical-align: middle;\n",
       "    }\n",
       "\n",
       "    .dataframe tbody tr th {\n",
       "        vertical-align: top;\n",
       "    }\n",
       "\n",
       "    .dataframe thead th {\n",
       "        text-align: right;\n",
       "    }\n",
       "</style>\n",
       "<table border=\"1\" class=\"dataframe\">\n",
       "  <thead>\n",
       "    <tr style=\"text-align: right;\">\n",
       "      <th></th>\n",
       "      <th>Target</th>\n",
       "      <th>FamilyID</th>\n",
       "      <th>TargetRelativeMax</th>\n",
       "      <th>Sex</th>\n",
       "      <th>Height</th>\n",
       "      <th>Mass</th>\n",
       "      <th>BMI</th>\n",
       "      <th>DebutAge</th>\n",
       "      <th>Cirrhosis</th>\n",
       "      <th>ChildPugh</th>\n",
       "      <th>Advanced</th>\n",
       "      <th>Activity</th>\n",
       "      <th>KKF</th>\n",
       "      <th>F2</th>\n",
       "      <th>F5</th>\n",
       "      <th>F7</th>\n",
       "      <th>F13</th>\n",
       "      <th>ITGA2</th>\n",
       "      <th>ITGB3</th>\n",
       "      <th>PAI_1</th>\n",
       "      <th>FGB</th>\n",
       "      <th>MTHFR_677</th>\n",
       "      <th>MTHFR_1298</th>\n",
       "      <th>DebutLiver</th>\n",
       "      <th>DebutNeuro</th>\n",
       "      <th>DebutKidney</th>\n",
       "      <th>DebutEndocr</th>\n",
       "      <th>DebutSibs</th>\n",
       "      <th>DebutVasku</th>\n",
       "      <th>DebutGemAnem</th>\n",
       "      <th>DebutSelez</th>\n",
       "      <th>DebutOther</th>\n",
       "      <th>TargetHead</th>\n",
       "    </tr>\n",
       "  </thead>\n",
       "  <tbody>\n",
       "    <tr>\n",
       "      <th>2</th>\n",
       "      <td>1</td>\n",
       "      <td>3</td>\n",
       "      <td>NaN</td>\n",
       "      <td>1</td>\n",
       "      <td>1.80</td>\n",
       "      <td>70.0</td>\n",
       "      <td>21.605</td>\n",
       "      <td>14</td>\n",
       "      <td>2</td>\n",
       "      <td>2</td>\n",
       "      <td>2</td>\n",
       "      <td>1</td>\n",
       "      <td>1.0</td>\n",
       "      <td>GG</td>\n",
       "      <td>GG</td>\n",
       "      <td>GA</td>\n",
       "      <td>GG</td>\n",
       "      <td>CC</td>\n",
       "      <td>TT</td>\n",
       "      <td>4G4G</td>\n",
       "      <td>GG</td>\n",
       "      <td>CT</td>\n",
       "      <td>AC</td>\n",
       "      <td>1</td>\n",
       "      <td>0</td>\n",
       "      <td>0</td>\n",
       "      <td>0</td>\n",
       "      <td>0</td>\n",
       "      <td>0</td>\n",
       "      <td>0</td>\n",
       "      <td>0</td>\n",
       "      <td>0</td>\n",
       "      <td>0</td>\n",
       "    </tr>\n",
       "    <tr>\n",
       "      <th>3</th>\n",
       "      <td>3</td>\n",
       "      <td>4</td>\n",
       "      <td>1.0</td>\n",
       "      <td>2</td>\n",
       "      <td>1.66</td>\n",
       "      <td>50.0</td>\n",
       "      <td>18.145</td>\n",
       "      <td>23</td>\n",
       "      <td>2</td>\n",
       "      <td>2</td>\n",
       "      <td>2</td>\n",
       "      <td>1</td>\n",
       "      <td>1.0</td>\n",
       "      <td>GG</td>\n",
       "      <td>GG</td>\n",
       "      <td>GG</td>\n",
       "      <td>GT</td>\n",
       "      <td>CT</td>\n",
       "      <td>TC</td>\n",
       "      <td>5G4G</td>\n",
       "      <td>GA</td>\n",
       "      <td>CT</td>\n",
       "      <td>AA</td>\n",
       "      <td>1</td>\n",
       "      <td>1</td>\n",
       "      <td>0</td>\n",
       "      <td>0</td>\n",
       "      <td>0</td>\n",
       "      <td>0</td>\n",
       "      <td>0</td>\n",
       "      <td>0</td>\n",
       "      <td>0</td>\n",
       "      <td>1</td>\n",
       "    </tr>\n",
       "    <tr>\n",
       "      <th>4</th>\n",
       "      <td>1</td>\n",
       "      <td>4</td>\n",
       "      <td>3.0</td>\n",
       "      <td>1</td>\n",
       "      <td>1.78</td>\n",
       "      <td>69.0</td>\n",
       "      <td>21.778</td>\n",
       "      <td>9</td>\n",
       "      <td>1</td>\n",
       "      <td>0</td>\n",
       "      <td>0</td>\n",
       "      <td>1</td>\n",
       "      <td>0.0</td>\n",
       "      <td>GG</td>\n",
       "      <td>GG</td>\n",
       "      <td>GG</td>\n",
       "      <td>GT</td>\n",
       "      <td>TT</td>\n",
       "      <td>TC</td>\n",
       "      <td>5G4G</td>\n",
       "      <td>GA</td>\n",
       "      <td>CC</td>\n",
       "      <td>AC</td>\n",
       "      <td>1</td>\n",
       "      <td>0</td>\n",
       "      <td>0</td>\n",
       "      <td>0</td>\n",
       "      <td>1</td>\n",
       "      <td>0</td>\n",
       "      <td>0</td>\n",
       "      <td>0</td>\n",
       "      <td>0</td>\n",
       "      <td>0</td>\n",
       "    </tr>\n",
       "  </tbody>\n",
       "</table>\n",
       "</div>"
      ],
      "text/plain": [
       "   Target  FamilyID  TargetRelativeMax  Sex  Height  Mass     BMI  DebutAge  \\\n",
       "2       1         3                NaN    1    1.80  70.0  21.605        14   \n",
       "3       3         4                1.0    2    1.66  50.0  18.145        23   \n",
       "4       1         4                3.0    1    1.78  69.0  21.778         9   \n",
       "\n",
       "   Cirrhosis  ChildPugh  Advanced  Activity  KKF  F2  F5  F7 F13 ITGA2 ITGB3  \\\n",
       "2          2          2         2         1  1.0  GG  GG  GA  GG    CC    TT   \n",
       "3          2          2         2         1  1.0  GG  GG  GG  GT    CT    TC   \n",
       "4          1          0         0         1  0.0  GG  GG  GG  GT    TT    TC   \n",
       "\n",
       "  PAI_1 FGB MTHFR_677 MTHFR_1298  DebutLiver  DebutNeuro  DebutKidney  \\\n",
       "2  4G4G  GG        CT         AC           1           0            0   \n",
       "3  5G4G  GA        CT         AA           1           1            0   \n",
       "4  5G4G  GA        CC         AC           1           0            0   \n",
       "\n",
       "   DebutEndocr  DebutSibs  DebutVasku  DebutGemAnem  DebutSelez  DebutOther  \\\n",
       "2            0          0           0             0           0           0   \n",
       "3            0          0           0             0           0           0   \n",
       "4            0          1           0             0           0           0   \n",
       "\n",
       "   TargetHead  \n",
       "2           0  \n",
       "3           1  \n",
       "4           0  "
      ]
     },
     "execution_count": 50,
     "metadata": {},
     "output_type": "execute_result"
    }
   ],
   "source": [
    "data_csv_dir = '../data_csv/'\n",
    "data_dir = '../data_csv/'\n",
    "\n",
    "df = pd.read_csv(data_csv_dir + 'Wilson_anonym.csv', sep=';', encoding='cp1251')\n",
    "df.head(5).tail(3)"
   ]
  },
  {
   "cell_type": "markdown",
   "metadata": {},
   "source": [
    "### Группировка и комбинирование признаков\n",
    "#### Группы признаков\n",
    "Группы выделены в соответствии со смыслом данных, <br> логикой их использования и обработки, <br> форматом данных:\n",
    "- `target`\n",
    "- `relatives`\n",
    "- `sex`, `sex_cat`\n",
    "- `bmi`, `bmi_scaled`\n",
    "- `symptom`\n",
    "- `cirrhosis`\n",
    "    - `childpugh_dummy`\n",
    "- `activity`\n",
    "- `debut_age`, `debut_age_scaled`\n",
    "- `debut_organ`\n",
    "- `genetic`\n",
    "- `genetic_dummy`\n",
    "- `genetic__1`, `genetic__2`\n",
    "- `genetic_risk__1`, `genetic_risk__2`\n",
    "- `genetic_risk__1_scaled`, `genetic_risk__2_scaled`\n",
    "- `data`\n",
    "- `exclude`, `exclude_model`\n",
    "\n",
    "<br> Вспомогательные признаки\n",
    "- `num_to_scale`\n",
    "- `num_scaled`\n",
    "- `genetic_risk`\n",
    "- `genetic_risk_scaled`"
   ]
  },
  {
   "cell_type": "code",
   "execution_count": 51,
   "metadata": {},
   "outputs": [],
   "source": [
    "target        = ['TargetHead']                                               # TargetHead = ifelse(Target == 3, 1, 0)\n",
    "relatives     = ['TargetHeadRelativeMax']                                    # Наихудший диагноз у родсттвенников: 0, 1, NaN\n",
    "sex           = ['Sex']                                                      # Пол\n",
    "bmi           = ['BMI', 'Height', 'Mass']                                    # Идекс массы тела, Рост, Вес\n",
    "symptom       = ['KKF']                                                      # Симптом: Кольца Кайзера — Флейшера\n",
    "cirrhosis     = ['Cirrhosis', 'ChildPugh', 'Advanced']                       # Цирроз: cтадия\n",
    "activity      = ['Activity']                                                 # Скорость прогрессирования (активность) цирроза\n",
    "debut_age     = ['DebutAge']                                                 # Дебют заболвания: возраст\n",
    "debut_organ   = ['DebutLiver', 'DebutNeuro', 'DebutKidney', 'DebutEndocr',   # Дебют заболвания: что выявили\n",
    "                          'DebutSibs', 'DebutVasku', 'DebutGemAnem', 'DebutSelez', 'DebutOther']\n",
    "genetic       = ['F2', 'F5', 'F7', 'F13', 'ITGA2', 'ITGB3',                  # Генетические признаки \n",
    "                          'PAI_1', 'FGB', 'MTHFR_677', 'MTHFR_1298']\n",
    "exclude       = ['Target', 'TargetRelativeMax']                              # Исключить из данных\n",
    "exclude_model = ['FamilyID', 'DebutNeuro'] + exclude                         # Исключить из модели"
   ]
  },
  {
   "cell_type": "code",
   "execution_count": 52,
   "metadata": {},
   "outputs": [],
   "source": [
    "features = [\n",
    "    ('target',          target),\n",
    "    ('relatives',       relatives),\n",
    "    ('sex',             sex),\n",
    "    ('bmi',             bmi),\n",
    "    ('symptom',         symptom),\n",
    "    ('cirrhosis',       cirrhosis),\n",
    "    ('activity',        activity),\n",
    "    ('debut_age',       debut_age),\n",
    "    ('debut_organ',     debut_organ),\n",
    "    ('genetic',         genetic),\n",
    "    ('exclude',         exclude),\n",
    "    ('exclude_model',   exclude_model)\n",
    "]"
   ]
  },
  {
   "cell_type": "markdown",
   "metadata": {},
   "source": [
    "#### Комбинирование групп признаков: объединение и исключение"
   ]
  },
  {
   "cell_type": "code",
   "execution_count": 53,
   "metadata": {},
   "outputs": [],
   "source": [
    "def combine_features(combined_features_list,\n",
    "                     exclude_features):\n",
    "    '''combined_features_list - объединить эти группы признаков\n",
    "       exclude_features  - исключить эти признаки\n",
    "    '''\n",
    "    result = list()\n",
    "    for sublist in combined_features_list:\n",
    "        for item in sublist:\n",
    "            result.append(item)\n",
    "    result = [x for x in result if x not in exclude_features]\n",
    "    return(result)"
   ]
  },
  {
   "cell_type": "markdown",
   "metadata": {},
   "source": [
    "### Приведение данных к виду, удобному для выбранного алгоритма машинного обучения или для визуализации\n",
    "1. Преобразование и масштабирование числовых признаков\n",
    "2. Формат пола - числовой и категориальный: М, F\n",
    "3. Обогащение, группировка, масштабирование генетических признаков"
   ]
  },
  {
   "cell_type": "markdown",
   "metadata": {},
   "source": [
    "#### Преобразование и масштабирование числовых признаков"
   ]
  },
  {
   "cell_type": "code",
   "execution_count": 54,
   "metadata": {},
   "outputs": [],
   "source": [
    "df['TargetHeadRelativeMax'] = np.nan                                  # Нет данных о родственниках\n",
    "df.loc[(df['TargetRelativeMax'] == 1, 'TargetHeadRelativeMax')] = 0   # Нет осложнений у родственников\n",
    "df.loc[(df['TargetRelativeMax'] == 3, 'TargetHeadRelativeMax')] = 1   # Есть осложнения у родственников\n",
    "#df.loc[list(df['TargetRelativeMax'] != 3)]"
   ]
  },
  {
   "cell_type": "code",
   "execution_count": 55,
   "metadata": {},
   "outputs": [],
   "source": [
    "df['BMI_scaled']       = (df['BMI'].copy() - 23) / 4\n",
    "df['Height_scaled']    = (df['Height'].copy() - 1.75) / 0.1\n",
    "df['Mass_scaled']      = (df['Mass'].copy() - 70) / 15\n",
    "df['DebutAge_scaled']  = (df['DebutAge'].copy() - 18) / 8\n",
    "df['ChildPugh_scaled'] = (df['ChildPugh'] - 1.43) / 1."
   ]
  },
  {
   "cell_type": "markdown",
   "metadata": {},
   "source": [
    "#### Группы признаков\n",
    "При выборе признаков хотим объединять их в группы"
   ]
  },
  {
   "cell_type": "code",
   "execution_count": 56,
   "metadata": {},
   "outputs": [],
   "source": [
    "num_to_scale     = ['BMI','Height','Mass','DebutAge','ChildPugh']\n",
    "bmi_scaled       = ['BMI_scaled','Height_scaled','Mass_scaled']\n",
    "debut_age_scaled = ['DebutAge_scaled']\n",
    "num_scaled       = bmi_scaled + debut_age_scaled + ['ChildPugh_scaled']\n",
    "#num_scaled       = ['BMI_scaled','Height_scaled','Mass_scaled','DebutAge_scaled']"
   ]
  },
  {
   "cell_type": "code",
   "execution_count": 57,
   "metadata": {},
   "outputs": [],
   "source": [
    "features = features + [('num_to_scale',     num_to_scale)]\n",
    "features = features + [('num_scaled',       num_scaled)]\n",
    "features = features + [('bmi_scaled',       bmi_scaled)]\n",
    "features = features + [('debut_age_scaled', debut_age_scaled)]"
   ]
  },
  {
   "cell_type": "code",
   "execution_count": 58,
   "metadata": {},
   "outputs": [
    {
     "name": "stdout",
     "output_type": "stream",
     "text": [
      "          BMI  Height     Mass  DebutAge  ChildPugh\n",
      "count  83.000  81.000   81.000    84.000     84.000\n",
      "mean   22.898   1.748   70.191    18.000      1.452\n",
      "std     4.196   0.096   14.952     8.329      0.999\n",
      "min    16.872   1.580   45.000     2.000      0.000\n",
      "25%    20.049   1.680   60.000    13.000      1.000\n",
      "50%    22.052   1.730   69.000    17.000      1.000\n",
      "75%    24.914   1.800   77.000    22.000      2.000\n",
      "max    36.332   2.000  120.000    46.000      3.000\n",
      "       BMI_scaled  Height_scaled  Mass_scaled  DebutAge_scaled  \\\n",
      "count      83.000         81.000       81.000           84.000   \n",
      "mean       -0.025         -0.016        0.013            0.000   \n",
      "std         1.049          0.957        0.997            1.041   \n",
      "min        -1.532         -1.700       -1.667           -2.000   \n",
      "25%        -0.738         -0.700       -0.667           -0.625   \n",
      "50%        -0.237         -0.200       -0.067           -0.125   \n",
      "75%         0.479          0.500        0.467            0.500   \n",
      "max         3.333          2.500        3.333            3.500   \n",
      "\n",
      "       ChildPugh_scaled  \n",
      "count            84.000  \n",
      "mean              0.022  \n",
      "std               0.999  \n",
      "min              -1.430  \n",
      "25%              -0.430  \n",
      "50%              -0.430  \n",
      "75%               0.570  \n",
      "max               1.570  \n"
     ]
    }
   ],
   "source": [
    "print( df[num_to_scale].describe() )\n",
    "print( df[num_scaled].describe() )"
   ]
  },
  {
   "cell_type": "markdown",
   "metadata": {},
   "source": [
    "#### Формат пола: M, F"
   ]
  },
  {
   "cell_type": "code",
   "execution_count": 59,
   "metadata": {},
   "outputs": [],
   "source": [
    "def convert_sex(x):\n",
    "    if x == 1:\n",
    "        return 'M'\n",
    "    else:\n",
    "        return 'F'\n",
    "\n",
    "df['Sex M/F'] = df.Sex.apply(func=convert_sex)"
   ]
  },
  {
   "cell_type": "code",
   "execution_count": 60,
   "metadata": {},
   "outputs": [],
   "source": [
    "sex_cat = ['Sex M/F']\n",
    "\n",
    "features = features + [('sex_cat', sex_cat)]"
   ]
  },
  {
   "cell_type": "markdown",
   "metadata": {},
   "source": [
    "### Формирование таблицы `df_ext` для feature engineering"
   ]
  },
  {
   "cell_type": "code",
   "execution_count": 61,
   "metadata": {},
   "outputs": [
    {
     "name": "stdout",
     "output_type": "stream",
     "text": [
      "['TargetHead', 'TargetHeadRelativeMax', 'Sex', 'Sex M/F', 'BMI', 'Height', 'Mass', 'BMI_scaled', 'Height_scaled', 'Mass_scaled', 'KKF', 'Cirrhosis', 'ChildPugh', 'Advanced', 'Activity', 'DebutAge', 'DebutAge_scaled', 'DebutLiver', 'DebutNeuro', 'DebutKidney', 'DebutEndocr', 'DebutSibs', 'DebutVasku', 'DebutGemAnem', 'DebutSelez', 'DebutOther', 'F2', 'F5', 'F7', 'F13', 'ITGA2', 'ITGB3', 'PAI_1', 'FGB', 'MTHFR_677', 'MTHFR_1298']\n"
     ]
    },
    {
     "data": {
      "text/html": [
       "<div>\n",
       "<style scoped>\n",
       "    .dataframe tbody tr th:only-of-type {\n",
       "        vertical-align: middle;\n",
       "    }\n",
       "\n",
       "    .dataframe tbody tr th {\n",
       "        vertical-align: top;\n",
       "    }\n",
       "\n",
       "    .dataframe thead th {\n",
       "        text-align: right;\n",
       "    }\n",
       "</style>\n",
       "<table border=\"1\" class=\"dataframe\">\n",
       "  <thead>\n",
       "    <tr style=\"text-align: right;\">\n",
       "      <th></th>\n",
       "      <th>TargetHead</th>\n",
       "      <th>TargetHeadRelativeMax</th>\n",
       "      <th>Sex</th>\n",
       "      <th>Sex M/F</th>\n",
       "      <th>BMI</th>\n",
       "      <th>Height</th>\n",
       "      <th>Mass</th>\n",
       "      <th>BMI_scaled</th>\n",
       "      <th>Height_scaled</th>\n",
       "      <th>Mass_scaled</th>\n",
       "      <th>KKF</th>\n",
       "      <th>Cirrhosis</th>\n",
       "      <th>ChildPugh</th>\n",
       "      <th>Advanced</th>\n",
       "      <th>Activity</th>\n",
       "      <th>DebutAge</th>\n",
       "      <th>DebutAge_scaled</th>\n",
       "      <th>DebutLiver</th>\n",
       "      <th>DebutNeuro</th>\n",
       "      <th>DebutKidney</th>\n",
       "      <th>DebutEndocr</th>\n",
       "      <th>DebutSibs</th>\n",
       "      <th>DebutVasku</th>\n",
       "      <th>DebutGemAnem</th>\n",
       "      <th>DebutSelez</th>\n",
       "      <th>DebutOther</th>\n",
       "      <th>F2</th>\n",
       "      <th>F5</th>\n",
       "      <th>F7</th>\n",
       "      <th>F13</th>\n",
       "      <th>ITGA2</th>\n",
       "      <th>ITGB3</th>\n",
       "      <th>PAI_1</th>\n",
       "      <th>FGB</th>\n",
       "      <th>MTHFR_677</th>\n",
       "      <th>MTHFR_1298</th>\n",
       "    </tr>\n",
       "  </thead>\n",
       "  <tbody>\n",
       "    <tr>\n",
       "      <th>0</th>\n",
       "      <td>0</td>\n",
       "      <td>NaN</td>\n",
       "      <td>1</td>\n",
       "      <td>M</td>\n",
       "      <td>24.220</td>\n",
       "      <td>1.84</td>\n",
       "      <td>82.0</td>\n",
       "      <td>0.305</td>\n",
       "      <td>0.9</td>\n",
       "      <td>0.800</td>\n",
       "      <td>0.0</td>\n",
       "      <td>2</td>\n",
       "      <td>1</td>\n",
       "      <td>1</td>\n",
       "      <td>1</td>\n",
       "      <td>25</td>\n",
       "      <td>0.875</td>\n",
       "      <td>1</td>\n",
       "      <td>0</td>\n",
       "      <td>0</td>\n",
       "      <td>0</td>\n",
       "      <td>0</td>\n",
       "      <td>0</td>\n",
       "      <td>0</td>\n",
       "      <td>0</td>\n",
       "      <td>1</td>\n",
       "      <td>GG</td>\n",
       "      <td>GG</td>\n",
       "      <td>GA</td>\n",
       "      <td>GG</td>\n",
       "      <td>CT</td>\n",
       "      <td>TT</td>\n",
       "      <td>5G5G</td>\n",
       "      <td>GG</td>\n",
       "      <td>TT</td>\n",
       "      <td>AA</td>\n",
       "    </tr>\n",
       "    <tr>\n",
       "      <th>1</th>\n",
       "      <td>0</td>\n",
       "      <td>NaN</td>\n",
       "      <td>2</td>\n",
       "      <td>F</td>\n",
       "      <td>19.493</td>\n",
       "      <td>1.71</td>\n",
       "      <td>57.0</td>\n",
       "      <td>-0.877</td>\n",
       "      <td>-0.4</td>\n",
       "      <td>-0.867</td>\n",
       "      <td>1.0</td>\n",
       "      <td>2</td>\n",
       "      <td>3</td>\n",
       "      <td>2</td>\n",
       "      <td>1</td>\n",
       "      <td>19</td>\n",
       "      <td>0.125</td>\n",
       "      <td>0</td>\n",
       "      <td>0</td>\n",
       "      <td>0</td>\n",
       "      <td>0</td>\n",
       "      <td>0</td>\n",
       "      <td>1</td>\n",
       "      <td>0</td>\n",
       "      <td>0</td>\n",
       "      <td>0</td>\n",
       "      <td>GG</td>\n",
       "      <td>GG</td>\n",
       "      <td>GG</td>\n",
       "      <td>GG</td>\n",
       "      <td>CC</td>\n",
       "      <td>TT</td>\n",
       "      <td>5G4G</td>\n",
       "      <td>GA</td>\n",
       "      <td>CC</td>\n",
       "      <td>AC</td>\n",
       "    </tr>\n",
       "    <tr>\n",
       "      <th>2</th>\n",
       "      <td>0</td>\n",
       "      <td>NaN</td>\n",
       "      <td>1</td>\n",
       "      <td>M</td>\n",
       "      <td>21.605</td>\n",
       "      <td>1.80</td>\n",
       "      <td>70.0</td>\n",
       "      <td>-0.349</td>\n",
       "      <td>0.5</td>\n",
       "      <td>0.000</td>\n",
       "      <td>1.0</td>\n",
       "      <td>2</td>\n",
       "      <td>2</td>\n",
       "      <td>2</td>\n",
       "      <td>1</td>\n",
       "      <td>14</td>\n",
       "      <td>-0.500</td>\n",
       "      <td>1</td>\n",
       "      <td>0</td>\n",
       "      <td>0</td>\n",
       "      <td>0</td>\n",
       "      <td>0</td>\n",
       "      <td>0</td>\n",
       "      <td>0</td>\n",
       "      <td>0</td>\n",
       "      <td>0</td>\n",
       "      <td>GG</td>\n",
       "      <td>GG</td>\n",
       "      <td>GA</td>\n",
       "      <td>GG</td>\n",
       "      <td>CC</td>\n",
       "      <td>TT</td>\n",
       "      <td>4G4G</td>\n",
       "      <td>GG</td>\n",
       "      <td>CT</td>\n",
       "      <td>AC</td>\n",
       "    </tr>\n",
       "    <tr>\n",
       "      <th>3</th>\n",
       "      <td>1</td>\n",
       "      <td>0.0</td>\n",
       "      <td>2</td>\n",
       "      <td>F</td>\n",
       "      <td>18.145</td>\n",
       "      <td>1.66</td>\n",
       "      <td>50.0</td>\n",
       "      <td>-1.214</td>\n",
       "      <td>-0.9</td>\n",
       "      <td>-1.333</td>\n",
       "      <td>1.0</td>\n",
       "      <td>2</td>\n",
       "      <td>2</td>\n",
       "      <td>2</td>\n",
       "      <td>1</td>\n",
       "      <td>23</td>\n",
       "      <td>0.625</td>\n",
       "      <td>1</td>\n",
       "      <td>1</td>\n",
       "      <td>0</td>\n",
       "      <td>0</td>\n",
       "      <td>0</td>\n",
       "      <td>0</td>\n",
       "      <td>0</td>\n",
       "      <td>0</td>\n",
       "      <td>0</td>\n",
       "      <td>GG</td>\n",
       "      <td>GG</td>\n",
       "      <td>GG</td>\n",
       "      <td>GT</td>\n",
       "      <td>CT</td>\n",
       "      <td>TC</td>\n",
       "      <td>5G4G</td>\n",
       "      <td>GA</td>\n",
       "      <td>CT</td>\n",
       "      <td>AA</td>\n",
       "    </tr>\n",
       "  </tbody>\n",
       "</table>\n",
       "</div>"
      ],
      "text/plain": [
       "   TargetHead  TargetHeadRelativeMax  Sex Sex M/F     BMI  Height  Mass  \\\n",
       "0           0                    NaN    1       M  24.220    1.84  82.0   \n",
       "1           0                    NaN    2       F  19.493    1.71  57.0   \n",
       "2           0                    NaN    1       M  21.605    1.80  70.0   \n",
       "3           1                    0.0    2       F  18.145    1.66  50.0   \n",
       "\n",
       "   BMI_scaled  Height_scaled  Mass_scaled  KKF  Cirrhosis  ChildPugh  \\\n",
       "0       0.305            0.9        0.800  0.0          2          1   \n",
       "1      -0.877           -0.4       -0.867  1.0          2          3   \n",
       "2      -0.349            0.5        0.000  1.0          2          2   \n",
       "3      -1.214           -0.9       -1.333  1.0          2          2   \n",
       "\n",
       "   Advanced  Activity  DebutAge  DebutAge_scaled  DebutLiver  DebutNeuro  \\\n",
       "0         1         1        25            0.875           1           0   \n",
       "1         2         1        19            0.125           0           0   \n",
       "2         2         1        14           -0.500           1           0   \n",
       "3         2         1        23            0.625           1           1   \n",
       "\n",
       "   DebutKidney  DebutEndocr  DebutSibs  DebutVasku  DebutGemAnem  DebutSelez  \\\n",
       "0            0            0          0           0             0           0   \n",
       "1            0            0          0           1             0           0   \n",
       "2            0            0          0           0             0           0   \n",
       "3            0            0          0           0             0           0   \n",
       "\n",
       "   DebutOther  F2  F5  F7 F13 ITGA2 ITGB3 PAI_1 FGB MTHFR_677 MTHFR_1298  \n",
       "0           1  GG  GG  GA  GG    CT    TT  5G5G  GG        TT         AA  \n",
       "1           0  GG  GG  GG  GG    CC    TT  5G4G  GA        CC         AC  \n",
       "2           0  GG  GG  GA  GG    CC    TT  4G4G  GG        CT         AC  \n",
       "3           0  GG  GG  GG  GT    CT    TC  5G4G  GA        CT         AA  "
      ]
     },
     "execution_count": 61,
     "metadata": {},
     "output_type": "execute_result"
    }
   ],
   "source": [
    "data_features_ext = combine_features(\n",
    "                       [target, relatives, \n",
    "                        sex, sex_cat, \n",
    "                        bmi, bmi_scaled,\n",
    "                        symptom, \n",
    "                        cirrhosis, activity,\n",
    "                        debut_age, debut_age_scaled,\n",
    "                        debut_organ,\n",
    "                        genetic ],\n",
    "                       exclude)\n",
    "\n",
    "print(data_features_ext)\n",
    "\n",
    "df_ext = df[data_features_ext]\n",
    "df_ext.head(4)"
   ]
  },
  {
   "cell_type": "markdown",
   "metadata": {},
   "source": [
    "### Группа `cirrhosis`\n",
    "#### Dummy encoding для 'ChildPugh' "
   ]
  },
  {
   "cell_type": "code",
   "execution_count": 62,
   "metadata": {},
   "outputs": [
    {
     "name": "stdout",
     "output_type": "stream",
     "text": [
      "   ChildPugh_0  ChildPugh_1  ChildPugh_2  ChildPugh_3\n",
      "0            0            1            0            0\n",
      "1            0            0            0            1\n",
      "2            0            0            1            0\n"
     ]
    },
    {
     "data": {
      "text/html": [
       "<div>\n",
       "<style scoped>\n",
       "    .dataframe tbody tr th:only-of-type {\n",
       "        vertical-align: middle;\n",
       "    }\n",
       "\n",
       "    .dataframe tbody tr th {\n",
       "        vertical-align: top;\n",
       "    }\n",
       "\n",
       "    .dataframe thead th {\n",
       "        text-align: right;\n",
       "    }\n",
       "</style>\n",
       "<table border=\"1\" class=\"dataframe\">\n",
       "  <thead>\n",
       "    <tr style=\"text-align: right;\">\n",
       "      <th></th>\n",
       "      <th>TargetHead</th>\n",
       "      <th>TargetHeadRelativeMax</th>\n",
       "      <th>Sex</th>\n",
       "      <th>Sex M/F</th>\n",
       "      <th>BMI</th>\n",
       "      <th>Height</th>\n",
       "      <th>Mass</th>\n",
       "      <th>BMI_scaled</th>\n",
       "      <th>Height_scaled</th>\n",
       "      <th>Mass_scaled</th>\n",
       "      <th>KKF</th>\n",
       "      <th>Cirrhosis</th>\n",
       "      <th>ChildPugh</th>\n",
       "      <th>Advanced</th>\n",
       "      <th>Activity</th>\n",
       "      <th>DebutAge</th>\n",
       "      <th>DebutAge_scaled</th>\n",
       "      <th>DebutLiver</th>\n",
       "      <th>DebutNeuro</th>\n",
       "      <th>DebutKidney</th>\n",
       "      <th>DebutEndocr</th>\n",
       "      <th>DebutSibs</th>\n",
       "      <th>DebutVasku</th>\n",
       "      <th>DebutGemAnem</th>\n",
       "      <th>DebutSelez</th>\n",
       "      <th>DebutOther</th>\n",
       "      <th>F2</th>\n",
       "      <th>F5</th>\n",
       "      <th>F7</th>\n",
       "      <th>F13</th>\n",
       "      <th>ITGA2</th>\n",
       "      <th>ITGB3</th>\n",
       "      <th>PAI_1</th>\n",
       "      <th>FGB</th>\n",
       "      <th>MTHFR_677</th>\n",
       "      <th>MTHFR_1298</th>\n",
       "      <th>ChildPugh_0</th>\n",
       "      <th>ChildPugh_1</th>\n",
       "      <th>ChildPugh_2</th>\n",
       "      <th>ChildPugh_3</th>\n",
       "    </tr>\n",
       "  </thead>\n",
       "  <tbody>\n",
       "    <tr>\n",
       "      <th>0</th>\n",
       "      <td>0</td>\n",
       "      <td>NaN</td>\n",
       "      <td>1</td>\n",
       "      <td>M</td>\n",
       "      <td>24.220</td>\n",
       "      <td>1.84</td>\n",
       "      <td>82.0</td>\n",
       "      <td>0.305</td>\n",
       "      <td>0.9</td>\n",
       "      <td>0.800</td>\n",
       "      <td>0.0</td>\n",
       "      <td>2</td>\n",
       "      <td>1</td>\n",
       "      <td>1</td>\n",
       "      <td>1</td>\n",
       "      <td>25</td>\n",
       "      <td>0.875</td>\n",
       "      <td>1</td>\n",
       "      <td>0</td>\n",
       "      <td>0</td>\n",
       "      <td>0</td>\n",
       "      <td>0</td>\n",
       "      <td>0</td>\n",
       "      <td>0</td>\n",
       "      <td>0</td>\n",
       "      <td>1</td>\n",
       "      <td>GG</td>\n",
       "      <td>GG</td>\n",
       "      <td>GA</td>\n",
       "      <td>GG</td>\n",
       "      <td>CT</td>\n",
       "      <td>TT</td>\n",
       "      <td>5G5G</td>\n",
       "      <td>GG</td>\n",
       "      <td>TT</td>\n",
       "      <td>AA</td>\n",
       "      <td>0</td>\n",
       "      <td>1</td>\n",
       "      <td>0</td>\n",
       "      <td>0</td>\n",
       "    </tr>\n",
       "    <tr>\n",
       "      <th>1</th>\n",
       "      <td>0</td>\n",
       "      <td>NaN</td>\n",
       "      <td>2</td>\n",
       "      <td>F</td>\n",
       "      <td>19.493</td>\n",
       "      <td>1.71</td>\n",
       "      <td>57.0</td>\n",
       "      <td>-0.877</td>\n",
       "      <td>-0.4</td>\n",
       "      <td>-0.867</td>\n",
       "      <td>1.0</td>\n",
       "      <td>2</td>\n",
       "      <td>3</td>\n",
       "      <td>2</td>\n",
       "      <td>1</td>\n",
       "      <td>19</td>\n",
       "      <td>0.125</td>\n",
       "      <td>0</td>\n",
       "      <td>0</td>\n",
       "      <td>0</td>\n",
       "      <td>0</td>\n",
       "      <td>0</td>\n",
       "      <td>1</td>\n",
       "      <td>0</td>\n",
       "      <td>0</td>\n",
       "      <td>0</td>\n",
       "      <td>GG</td>\n",
       "      <td>GG</td>\n",
       "      <td>GG</td>\n",
       "      <td>GG</td>\n",
       "      <td>CC</td>\n",
       "      <td>TT</td>\n",
       "      <td>5G4G</td>\n",
       "      <td>GA</td>\n",
       "      <td>CC</td>\n",
       "      <td>AC</td>\n",
       "      <td>0</td>\n",
       "      <td>0</td>\n",
       "      <td>0</td>\n",
       "      <td>1</td>\n",
       "    </tr>\n",
       "    <tr>\n",
       "      <th>2</th>\n",
       "      <td>0</td>\n",
       "      <td>NaN</td>\n",
       "      <td>1</td>\n",
       "      <td>M</td>\n",
       "      <td>21.605</td>\n",
       "      <td>1.80</td>\n",
       "      <td>70.0</td>\n",
       "      <td>-0.349</td>\n",
       "      <td>0.5</td>\n",
       "      <td>0.000</td>\n",
       "      <td>1.0</td>\n",
       "      <td>2</td>\n",
       "      <td>2</td>\n",
       "      <td>2</td>\n",
       "      <td>1</td>\n",
       "      <td>14</td>\n",
       "      <td>-0.500</td>\n",
       "      <td>1</td>\n",
       "      <td>0</td>\n",
       "      <td>0</td>\n",
       "      <td>0</td>\n",
       "      <td>0</td>\n",
       "      <td>0</td>\n",
       "      <td>0</td>\n",
       "      <td>0</td>\n",
       "      <td>0</td>\n",
       "      <td>GG</td>\n",
       "      <td>GG</td>\n",
       "      <td>GA</td>\n",
       "      <td>GG</td>\n",
       "      <td>CC</td>\n",
       "      <td>TT</td>\n",
       "      <td>4G4G</td>\n",
       "      <td>GG</td>\n",
       "      <td>CT</td>\n",
       "      <td>AC</td>\n",
       "      <td>0</td>\n",
       "      <td>0</td>\n",
       "      <td>1</td>\n",
       "      <td>0</td>\n",
       "    </tr>\n",
       "  </tbody>\n",
       "</table>\n",
       "</div>"
      ],
      "text/plain": [
       "   TargetHead  TargetHeadRelativeMax  Sex Sex M/F     BMI  Height  Mass  \\\n",
       "0           0                    NaN    1       M  24.220    1.84  82.0   \n",
       "1           0                    NaN    2       F  19.493    1.71  57.0   \n",
       "2           0                    NaN    1       M  21.605    1.80  70.0   \n",
       "\n",
       "   BMI_scaled  Height_scaled  Mass_scaled  KKF  Cirrhosis  ChildPugh  \\\n",
       "0       0.305            0.9        0.800  0.0          2          1   \n",
       "1      -0.877           -0.4       -0.867  1.0          2          3   \n",
       "2      -0.349            0.5        0.000  1.0          2          2   \n",
       "\n",
       "   Advanced  Activity  DebutAge  DebutAge_scaled  DebutLiver  DebutNeuro  \\\n",
       "0         1         1        25            0.875           1           0   \n",
       "1         2         1        19            0.125           0           0   \n",
       "2         2         1        14           -0.500           1           0   \n",
       "\n",
       "   DebutKidney  DebutEndocr  DebutSibs  DebutVasku  DebutGemAnem  DebutSelez  \\\n",
       "0            0            0          0           0             0           0   \n",
       "1            0            0          0           1             0           0   \n",
       "2            0            0          0           0             0           0   \n",
       "\n",
       "   DebutOther  F2  F5  F7 F13 ITGA2 ITGB3 PAI_1 FGB MTHFR_677 MTHFR_1298  \\\n",
       "0           1  GG  GG  GA  GG    CT    TT  5G5G  GG        TT         AA   \n",
       "1           0  GG  GG  GG  GG    CC    TT  5G4G  GA        CC         AC   \n",
       "2           0  GG  GG  GA  GG    CC    TT  4G4G  GG        CT         AC   \n",
       "\n",
       "   ChildPugh_0  ChildPugh_1  ChildPugh_2  ChildPugh_3  \n",
       "0            0            1            0            0  \n",
       "1            0            0            0            1  \n",
       "2            0            0            1            0  "
      ]
     },
     "execution_count": 62,
     "metadata": {},
     "output_type": "execute_result"
    }
   ],
   "source": [
    "df_dummies = pd.get_dummies(df[['ChildPugh']], prefix=None,  prefix_sep='_', dummy_na=False, \n",
    "                       columns=['ChildPugh'],  sparse=False, drop_first=False)\n",
    "\n",
    "df_ext = pd.concat([df_ext, df_dummies], axis = 1)   # https://pandas.pydata.org/pandas-docs/stable/merging.html\n",
    "\n",
    "childpugh_dummy = list( df_dummies.columns )\n",
    "\n",
    "features = features + [('childpugh_dummy', childpugh_dummy)]\n",
    "\n",
    "print(df_dummies.head(3))\n",
    "\n",
    "df_ext.head(3)"
   ]
  },
  {
   "cell_type": "markdown",
   "metadata": {},
   "source": [
    "### Генетические признаки\n",
    "#### Обогащение, группировка, масштабирование генетических признаков"
   ]
  },
  {
   "cell_type": "markdown",
   "metadata": {},
   "source": [
    "##### Dummy encoding для генетических признаков."
   ]
  },
  {
   "cell_type": "code",
   "execution_count": 63,
   "metadata": {},
   "outputs": [
    {
     "data": {
      "text/html": [
       "<div>\n",
       "<style scoped>\n",
       "    .dataframe tbody tr th:only-of-type {\n",
       "        vertical-align: middle;\n",
       "    }\n",
       "\n",
       "    .dataframe tbody tr th {\n",
       "        vertical-align: top;\n",
       "    }\n",
       "\n",
       "    .dataframe thead th {\n",
       "        text-align: right;\n",
       "    }\n",
       "</style>\n",
       "<table border=\"1\" class=\"dataframe\">\n",
       "  <thead>\n",
       "    <tr style=\"text-align: right;\">\n",
       "      <th></th>\n",
       "      <th>F2_GA</th>\n",
       "      <th>F2_GG</th>\n",
       "      <th>F5_GA</th>\n",
       "      <th>F5_GG</th>\n",
       "      <th>F7_GA</th>\n",
       "      <th>F7_GG</th>\n",
       "      <th>F13_GG</th>\n",
       "      <th>F13_GT</th>\n",
       "      <th>F13_TT</th>\n",
       "      <th>ITGA2_CC</th>\n",
       "      <th>ITGA2_CT</th>\n",
       "      <th>ITGA2_TT</th>\n",
       "      <th>ITGB3_TC</th>\n",
       "      <th>ITGB3_TT</th>\n",
       "      <th>PAI_1_4G4G</th>\n",
       "      <th>PAI_1_5G4G</th>\n",
       "      <th>PAI_1_5G5G</th>\n",
       "      <th>FGB_AA</th>\n",
       "      <th>FGB_GA</th>\n",
       "      <th>FGB_GG</th>\n",
       "      <th>MTHFR_677_CC</th>\n",
       "      <th>MTHFR_677_CT</th>\n",
       "      <th>MTHFR_677_TT</th>\n",
       "      <th>MTHFR_1298_AA</th>\n",
       "      <th>MTHFR_1298_AC</th>\n",
       "      <th>MTHFR_1298_CC</th>\n",
       "    </tr>\n",
       "  </thead>\n",
       "  <tbody>\n",
       "    <tr>\n",
       "      <th>0</th>\n",
       "      <td>0</td>\n",
       "      <td>1</td>\n",
       "      <td>0</td>\n",
       "      <td>1</td>\n",
       "      <td>1</td>\n",
       "      <td>0</td>\n",
       "      <td>1</td>\n",
       "      <td>0</td>\n",
       "      <td>0</td>\n",
       "      <td>0</td>\n",
       "      <td>1</td>\n",
       "      <td>0</td>\n",
       "      <td>0</td>\n",
       "      <td>1</td>\n",
       "      <td>0</td>\n",
       "      <td>0</td>\n",
       "      <td>1</td>\n",
       "      <td>0</td>\n",
       "      <td>0</td>\n",
       "      <td>1</td>\n",
       "      <td>0</td>\n",
       "      <td>0</td>\n",
       "      <td>1</td>\n",
       "      <td>1</td>\n",
       "      <td>0</td>\n",
       "      <td>0</td>\n",
       "    </tr>\n",
       "    <tr>\n",
       "      <th>1</th>\n",
       "      <td>0</td>\n",
       "      <td>1</td>\n",
       "      <td>0</td>\n",
       "      <td>1</td>\n",
       "      <td>0</td>\n",
       "      <td>1</td>\n",
       "      <td>1</td>\n",
       "      <td>0</td>\n",
       "      <td>0</td>\n",
       "      <td>1</td>\n",
       "      <td>0</td>\n",
       "      <td>0</td>\n",
       "      <td>0</td>\n",
       "      <td>1</td>\n",
       "      <td>0</td>\n",
       "      <td>1</td>\n",
       "      <td>0</td>\n",
       "      <td>0</td>\n",
       "      <td>1</td>\n",
       "      <td>0</td>\n",
       "      <td>1</td>\n",
       "      <td>0</td>\n",
       "      <td>0</td>\n",
       "      <td>0</td>\n",
       "      <td>1</td>\n",
       "      <td>0</td>\n",
       "    </tr>\n",
       "    <tr>\n",
       "      <th>2</th>\n",
       "      <td>0</td>\n",
       "      <td>1</td>\n",
       "      <td>0</td>\n",
       "      <td>1</td>\n",
       "      <td>1</td>\n",
       "      <td>0</td>\n",
       "      <td>1</td>\n",
       "      <td>0</td>\n",
       "      <td>0</td>\n",
       "      <td>1</td>\n",
       "      <td>0</td>\n",
       "      <td>0</td>\n",
       "      <td>0</td>\n",
       "      <td>1</td>\n",
       "      <td>1</td>\n",
       "      <td>0</td>\n",
       "      <td>0</td>\n",
       "      <td>0</td>\n",
       "      <td>0</td>\n",
       "      <td>1</td>\n",
       "      <td>0</td>\n",
       "      <td>1</td>\n",
       "      <td>0</td>\n",
       "      <td>0</td>\n",
       "      <td>1</td>\n",
       "      <td>0</td>\n",
       "    </tr>\n",
       "  </tbody>\n",
       "</table>\n",
       "</div>"
      ],
      "text/plain": [
       "   F2_GA  F2_GG  F5_GA  F5_GG  F7_GA  F7_GG  F13_GG  F13_GT  F13_TT  ITGA2_CC  \\\n",
       "0      0      1      0      1      1      0       1       0       0         0   \n",
       "1      0      1      0      1      0      1       1       0       0         1   \n",
       "2      0      1      0      1      1      0       1       0       0         1   \n",
       "\n",
       "   ITGA2_CT  ITGA2_TT  ITGB3_TC  ITGB3_TT  PAI_1_4G4G  PAI_1_5G4G  PAI_1_5G5G  \\\n",
       "0         1         0         0         1           0           0           1   \n",
       "1         0         0         0         1           0           1           0   \n",
       "2         0         0         0         1           1           0           0   \n",
       "\n",
       "   FGB_AA  FGB_GA  FGB_GG  MTHFR_677_CC  MTHFR_677_CT  MTHFR_677_TT  \\\n",
       "0       0       0       1             0             0             1   \n",
       "1       0       1       0             1             0             0   \n",
       "2       0       0       1             0             1             0   \n",
       "\n",
       "   MTHFR_1298_AA  MTHFR_1298_AC  MTHFR_1298_CC  \n",
       "0              1              0              0  \n",
       "1              0              1              0  \n",
       "2              0              1              0  "
      ]
     },
     "execution_count": 63,
     "metadata": {},
     "output_type": "execute_result"
    }
   ],
   "source": [
    "df_dummies = pd.get_dummies(df[genetic], prefix=None, prefix_sep='_', dummy_na=False, \n",
    "                       columns=genetic, sparse=False, drop_first=False)\n",
    "\n",
    "df_ext = pd.concat([df_ext, df_dummies], axis = 1)   # https://pandas.pydata.org/pandas-docs/stable/merging.html\n",
    "df_dummies.head(3)"
   ]
  },
  {
   "cell_type": "code",
   "execution_count": 64,
   "metadata": {},
   "outputs": [
    {
     "name": "stdout",
     "output_type": "stream",
     "text": [
      "['F2', 'F5', 'F7', 'F13', 'ITGA2', 'ITGB3', 'PAI_1', 'FGB', 'MTHFR_677', 'MTHFR_1298']\n",
      "['F2_GA', 'F2_GG', 'F5_GA', 'F5_GG', 'F7_GA', 'F7_GG', 'F13_GG', 'F13_GT', 'F13_TT', 'ITGA2_CC', 'ITGA2_CT', 'ITGA2_TT', 'ITGB3_TC', 'ITGB3_TT', 'PAI_1_4G4G', 'PAI_1_5G4G', 'PAI_1_5G5G', 'FGB_AA', 'FGB_GA', 'FGB_GG', 'MTHFR_677_CC', 'MTHFR_677_CT', 'MTHFR_677_TT', 'MTHFR_1298_AA', 'MTHFR_1298_AC', 'MTHFR_1298_CC']\n"
     ]
    }
   ],
   "source": [
    "genetic_dummy = list( df_dummies.columns )\n",
    "\n",
    "print(genetic)\n",
    "print(genetic_dummy)"
   ]
  },
  {
   "cell_type": "code",
   "execution_count": 65,
   "metadata": {},
   "outputs": [],
   "source": [
    "features = features + [('genetic_dummy', genetic_dummy)]"
   ]
  },
  {
   "cell_type": "markdown",
   "metadata": {},
   "source": [
    "##### Формальное отображение каждого из генетических признаков в массив [0,1,2]\n",
    "Наиболее частый гомозинготный аллельный вариант: 0,\n",
    "<br> гетерозиготный аллельный вариант: 1,\n",
    "<br> редкий гомозинготный аллельный вариант: 2."
   ]
  },
  {
   "cell_type": "code",
   "execution_count": 66,
   "metadata": {},
   "outputs": [
    {
     "data": {
      "text/html": [
       "<div>\n",
       "<style scoped>\n",
       "    .dataframe tbody tr th:only-of-type {\n",
       "        vertical-align: middle;\n",
       "    }\n",
       "\n",
       "    .dataframe tbody tr th {\n",
       "        vertical-align: top;\n",
       "    }\n",
       "\n",
       "    .dataframe thead th {\n",
       "        text-align: right;\n",
       "    }\n",
       "</style>\n",
       "<table border=\"1\" class=\"dataframe\">\n",
       "  <thead>\n",
       "    <tr style=\"text-align: right;\">\n",
       "      <th></th>\n",
       "      <th>F2__1</th>\n",
       "      <th>F5__1</th>\n",
       "      <th>F7__1</th>\n",
       "      <th>F13__1</th>\n",
       "      <th>ITGA2__1</th>\n",
       "      <th>ITGB3__1</th>\n",
       "      <th>PAI_1__1</th>\n",
       "      <th>FGB__1</th>\n",
       "      <th>MTHFR_677__1</th>\n",
       "      <th>MTHFR_1298__1</th>\n",
       "    </tr>\n",
       "  </thead>\n",
       "  <tbody>\n",
       "    <tr>\n",
       "      <th>0</th>\n",
       "      <td>0</td>\n",
       "      <td>0</td>\n",
       "      <td>1</td>\n",
       "      <td>0</td>\n",
       "      <td>1</td>\n",
       "      <td>0</td>\n",
       "      <td>0</td>\n",
       "      <td>0</td>\n",
       "      <td>2</td>\n",
       "      <td>0</td>\n",
       "    </tr>\n",
       "    <tr>\n",
       "      <th>1</th>\n",
       "      <td>0</td>\n",
       "      <td>0</td>\n",
       "      <td>0</td>\n",
       "      <td>0</td>\n",
       "      <td>0</td>\n",
       "      <td>0</td>\n",
       "      <td>1</td>\n",
       "      <td>1</td>\n",
       "      <td>0</td>\n",
       "      <td>1</td>\n",
       "    </tr>\n",
       "    <tr>\n",
       "      <th>2</th>\n",
       "      <td>0</td>\n",
       "      <td>0</td>\n",
       "      <td>1</td>\n",
       "      <td>0</td>\n",
       "      <td>0</td>\n",
       "      <td>0</td>\n",
       "      <td>2</td>\n",
       "      <td>0</td>\n",
       "      <td>1</td>\n",
       "      <td>1</td>\n",
       "    </tr>\n",
       "  </tbody>\n",
       "</table>\n",
       "</div>"
      ],
      "text/plain": [
       "   F2__1  F5__1  F7__1  F13__1  ITGA2__1  ITGB3__1  PAI_1__1  FGB__1  \\\n",
       "0      0      0      1       0         1         0         0       0   \n",
       "1      0      0      0       0         0         0         1       1   \n",
       "2      0      0      1       0         0         0         2       0   \n",
       "\n",
       "   MTHFR_677__1  MTHFR_1298__1  \n",
       "0             2              0  \n",
       "1             0              1  \n",
       "2             1              1  "
      ]
     },
     "execution_count": 66,
     "metadata": {},
     "output_type": "execute_result"
    }
   ],
   "source": [
    "gen_map_1 = [\n",
    "          {\"F2\":         {\"GG\":0,   \"GA\":1,     \"AA\":2}},\n",
    "          {\"F5\":         {\"GG\":0,   \"GA\":1,     \"AA\":2}},\n",
    "          {\"F7\":         {\"GG\":0,   \"GA\":1,     \"AA\":2}},\n",
    "          {\"F13\":        {\"GG\":0,   \"GT\":1,     \"TT\":2}},\n",
    "          {\"ITGA2\":      {\"CC\":0,   \"CT\":1,     \"TT\":2}},\n",
    "          {\"ITGB3\":      {\"TT\":0,   \"TC\":1,     \"CC\":2}},\n",
    "          {\"PAI_1\":      {\"5G5G\":0, \"5G4G\":1, \"4G4G\":2}},\n",
    "          {\"FGB\":        {\"GG\":0,   \"GA\":1,     \"AA\":2}},\n",
    "          {\"MTHFR_677\":  {\"CC\":0,   \"CT\":1,     \"TT\":2}},\n",
    "          {\"MTHFR_1298\": {\"AA\":0,   \"AC\":1,     \"CC\":2}}\n",
    "\n",
    "    ]\n",
    "\n",
    "df_1 = pd.DataFrame()\n",
    "for m in gen_map_1:    \n",
    "    [(k,v)] = m.items()\n",
    "    #print(k,v)\n",
    "    df_1[k + '__1'] = df[k].map(v)\n",
    "\n",
    "df_ext = pd.concat([df_ext, df_1], axis = 1)   # https://pandas.pydata.org/pandas-docs/stable/merging.html\n",
    "\n",
    "df_1.head(3)"
   ]
  },
  {
   "cell_type": "code",
   "execution_count": 67,
   "metadata": {},
   "outputs": [
    {
     "name": "stdout",
     "output_type": "stream",
     "text": [
      "['F2__1', 'F5__1', 'F7__1', 'F13__1', 'ITGA2__1', 'ITGB3__1', 'PAI_1__1', 'FGB__1', 'MTHFR_677__1', 'MTHFR_1298__1']\n"
     ]
    }
   ],
   "source": [
    "genetic__1 = list( df_1.columns )\n",
    "print(genetic__1)\n",
    "\n",
    "features = features + [('genetic__1',     genetic__1)]"
   ]
  },
  {
   "cell_type": "markdown",
   "metadata": {},
   "source": [
    "##### Отображение каждого из генетических признаков  в массив [0,1,2] <br> с помощью открытых баз знаний медицинских лабораторий\n",
    "\n",
    "Использованы открытые базы знаний лабораторий: helix.ru, invitro.ru\n",
    "<br> В базах знаний описана связь гомозиготной комбинации нуклеотидов с увеличением или снижением риска тромбофилии:\n",
    "\n",
    "Указано, что **гомозиготная** комбинация влияет на риск тромбофилии: $\\pm 2$. \n",
    "<br> Указано, что **гетерозиготная** комбинация влияет на риск тромбофилии: $\\pm 1$. Это не всегда понятно из описания.\n",
    "<br> Аллельные варианты нуклеотидов (гетерозиготный, гомозиготный) **не связанные** с риском тромбофилии: $0$. \n"
   ]
  },
  {
   "cell_type": "code",
   "execution_count": 68,
   "metadata": {},
   "outputs": [
    {
     "data": {
      "text/html": [
       "<div>\n",
       "<style scoped>\n",
       "    .dataframe tbody tr th:only-of-type {\n",
       "        vertical-align: middle;\n",
       "    }\n",
       "\n",
       "    .dataframe tbody tr th {\n",
       "        vertical-align: top;\n",
       "    }\n",
       "\n",
       "    .dataframe thead th {\n",
       "        text-align: right;\n",
       "    }\n",
       "</style>\n",
       "<table border=\"1\" class=\"dataframe\">\n",
       "  <thead>\n",
       "    <tr style=\"text-align: right;\">\n",
       "      <th></th>\n",
       "      <th>F2__2</th>\n",
       "      <th>F5__2</th>\n",
       "      <th>F7__2</th>\n",
       "      <th>F13__2</th>\n",
       "      <th>ITGA2__2</th>\n",
       "      <th>ITGB3__2</th>\n",
       "      <th>PAI_1__2</th>\n",
       "      <th>FGB__2</th>\n",
       "      <th>MTHFR_677__2</th>\n",
       "      <th>MTHFR_1298__2</th>\n",
       "    </tr>\n",
       "  </thead>\n",
       "  <tbody>\n",
       "    <tr>\n",
       "      <th>0</th>\n",
       "      <td>0</td>\n",
       "      <td>0</td>\n",
       "      <td>-1</td>\n",
       "      <td>0</td>\n",
       "      <td>0</td>\n",
       "      <td>0</td>\n",
       "      <td>0</td>\n",
       "      <td>0</td>\n",
       "      <td>2</td>\n",
       "      <td>0</td>\n",
       "    </tr>\n",
       "    <tr>\n",
       "      <th>1</th>\n",
       "      <td>0</td>\n",
       "      <td>0</td>\n",
       "      <td>0</td>\n",
       "      <td>0</td>\n",
       "      <td>0</td>\n",
       "      <td>0</td>\n",
       "      <td>0</td>\n",
       "      <td>1</td>\n",
       "      <td>0</td>\n",
       "      <td>1</td>\n",
       "    </tr>\n",
       "    <tr>\n",
       "      <th>2</th>\n",
       "      <td>0</td>\n",
       "      <td>0</td>\n",
       "      <td>-1</td>\n",
       "      <td>0</td>\n",
       "      <td>0</td>\n",
       "      <td>0</td>\n",
       "      <td>2</td>\n",
       "      <td>0</td>\n",
       "      <td>0</td>\n",
       "      <td>1</td>\n",
       "    </tr>\n",
       "  </tbody>\n",
       "</table>\n",
       "</div>"
      ],
      "text/plain": [
       "   F2__2  F5__2  F7__2  F13__2  ITGA2__2  ITGB3__2  PAI_1__2  FGB__2  \\\n",
       "0      0      0     -1       0         0         0         0       0   \n",
       "1      0      0      0       0         0         0         0       1   \n",
       "2      0      0     -1       0         0         0         2       0   \n",
       "\n",
       "   MTHFR_677__2  MTHFR_1298__2  \n",
       "0             2              0  \n",
       "1             0              1  \n",
       "2             0              1  "
      ]
     },
     "execution_count": 68,
     "metadata": {},
     "output_type": "execute_result"
    }
   ],
   "source": [
    "# Использование базы знаний в соответствии с описанием\n",
    "gen_map_2 = [\n",
    "          {\"F2\":          {\"GG\":0,   \"GA\":1,   \"AA\":2}},\n",
    "          {\"F5\":          {\"GG\":0,   \"GA\":1,   \"AA\":2}},\n",
    "          {\"F7\":          {\"GG\":0,   \"GA\":-1,  \"AA\":-2}},\n",
    "          {\"F13\":         {\"GG\":0,   \"GT\":0,   \"TT\":-2}},\n",
    "          {\"ITGA2\":       {\"CC\":0,   \"CT\":0,   \"TT\":2}},\n",
    "          {\"ITGB3\":       {\"TT\":0,   \"TC\":1,   \"CC\":2}},\n",
    "          {\"PAI_1\":       {\"5G5G\":0, \"5G4G\":0, \"4G4G\":2}},\n",
    "          {\"FGB\":         {\"GG\":0,   \"GA\":1,   \"AA\":2}},\n",
    "          {\"MTHFR_677\":   {\"CC\":0,   \"CT\":0,   \"TT\":2}},\n",
    "          {\"MTHFR_1298\":  {\"AA\":0,   \"AC\":1,   \"CC\":2}}\n",
    "        ]\n",
    "\n",
    "df_2 = pd.DataFrame()\n",
    "for m in gen_map_2:    \n",
    "    [(k,v)] = m.items()\n",
    "    df_2[k + '__2'] = df[k].map(v)\n",
    "\n",
    "df_ext = pd.concat([df_ext, df_2], axis = 1)   # https://pandas.pydata.org/pandas-docs/stable/merging.html\n",
    "\n",
    "df_2.head(3)"
   ]
  },
  {
   "cell_type": "code",
   "execution_count": 69,
   "metadata": {},
   "outputs": [
    {
     "name": "stdout",
     "output_type": "stream",
     "text": [
      "['F2__2', 'F5__2', 'F7__2', 'F13__2', 'ITGA2__2', 'ITGB3__2', 'PAI_1__2', 'FGB__2', 'MTHFR_677__2', 'MTHFR_1298__2']\n"
     ]
    }
   ],
   "source": [
    "genetic__2 = list( df_2.columns )\n",
    "print(genetic__2)\n",
    "\n",
    "features = features + [('genetic__2', genetic__2)]"
   ]
  },
  {
   "cell_type": "markdown",
   "metadata": {},
   "source": [
    "#### Комбинации генетических признаков.\n",
    "\n",
    "Группировка известных факторов либо увеличения, либо снижения риска тромбофилии - согласно открытым базам знаний лабораторий.\n",
    "<br> Суммы по группам. Масштабирование вклада групп. "
   ]
  },
  {
   "cell_type": "code",
   "execution_count": 70,
   "metadata": {},
   "outputs": [],
   "source": [
    "# Группы генетических факторов: увеличение или снижение риска тробофилии\n",
    "genetic_guess = [\n",
    "    {'GenRisk__1':['F2__1', 'F5__1', 'ITGA2__1', 'ITGB3__1', 'PAI_1__1', 'FGB__1', 'MTHFR_677__1', 'MTHFR_1298__1']},\n",
    "    {'GenRisk__2':['F2__2', 'F5__2', 'ITGA2__2', 'ITGB3__2', 'PAI_1__2', 'FGB__2', 'MTHFR_677__2', 'MTHFR_1298__2']},\n",
    "    {'GenProtect__1':['F7__1', 'F13__1']},\n",
    "    {'GenProtect__2':['F7__2', 'F13__2']} ]\n",
    "\n",
    "# Суммы по группам\n",
    "df_gg = pd.DataFrame()\n",
    "for g in genetic_guess:\n",
    "    #print(g)       #print( g.items() )         #print( k,v )\n",
    "    [(k,v)] = g.items()\n",
    "    df_gg[k] = np.array(df_ext[v].sum(axis=1))\n",
    "\n",
    "df_ext = pd.concat([df_ext, df_gg], axis=1)   # https://pandas.pydata.org/pandas-docs/stable/merging.html"
   ]
  },
  {
   "cell_type": "code",
   "execution_count": 71,
   "metadata": {},
   "outputs": [],
   "source": [
    "# Сгруппированные генетические признаки для использования в модели\n",
    "genetic_risk__1 = ['GenRisk__1', 'GenProtect__1']\n",
    "genetic_risk__2 = ['GenRisk__2', 'GenProtect__2']\n",
    "genetic_risk    = ['GenRisk__1', 'GenRisk__2', 'GenProtect__1', 'GenProtect__2']\n",
    "\n",
    "features = features + [('genetic_risk__1', genetic_risk__1)]\n",
    "features = features + [('genetic_risk__2', genetic_risk__2)]\n",
    "features = features + [('genetic_risk',    genetic_risk)]"
   ]
  },
  {
   "cell_type": "code",
   "execution_count": 72,
   "metadata": {},
   "outputs": [
    {
     "data": {
      "text/html": [
       "<div>\n",
       "<style scoped>\n",
       "    .dataframe tbody tr th:only-of-type {\n",
       "        vertical-align: middle;\n",
       "    }\n",
       "\n",
       "    .dataframe tbody tr th {\n",
       "        vertical-align: top;\n",
       "    }\n",
       "\n",
       "    .dataframe thead th {\n",
       "        text-align: right;\n",
       "    }\n",
       "</style>\n",
       "<table border=\"1\" class=\"dataframe\">\n",
       "  <thead>\n",
       "    <tr style=\"text-align: right;\">\n",
       "      <th></th>\n",
       "      <th>GenRisk__1</th>\n",
       "      <th>GenRisk__2</th>\n",
       "      <th>GenProtect__1</th>\n",
       "      <th>GenProtect__2</th>\n",
       "    </tr>\n",
       "  </thead>\n",
       "  <tbody>\n",
       "    <tr>\n",
       "      <th>0</th>\n",
       "      <td>3</td>\n",
       "      <td>2</td>\n",
       "      <td>1</td>\n",
       "      <td>-1</td>\n",
       "    </tr>\n",
       "    <tr>\n",
       "      <th>1</th>\n",
       "      <td>3</td>\n",
       "      <td>2</td>\n",
       "      <td>0</td>\n",
       "      <td>0</td>\n",
       "    </tr>\n",
       "    <tr>\n",
       "      <th>2</th>\n",
       "      <td>4</td>\n",
       "      <td>3</td>\n",
       "      <td>1</td>\n",
       "      <td>-1</td>\n",
       "    </tr>\n",
       "  </tbody>\n",
       "</table>\n",
       "</div>"
      ],
      "text/plain": [
       "   GenRisk__1  GenRisk__2  GenProtect__1  GenProtect__2\n",
       "0           3           2              1             -1\n",
       "1           3           2              0              0\n",
       "2           4           3              1             -1"
      ]
     },
     "execution_count": 72,
     "metadata": {},
     "output_type": "execute_result"
    }
   ],
   "source": [
    "df_ext[genetic_risk].head(3)"
   ]
  },
  {
   "cell_type": "markdown",
   "metadata": {},
   "source": [
    "#### Масштабируем генетические признаки"
   ]
  },
  {
   "cell_type": "code",
   "execution_count": 73,
   "metadata": {
    "scrolled": true
   },
   "outputs": [
    {
     "name": "stdout",
     "output_type": "stream",
     "text": [
      "       GenRisk__1  GenRisk__2  GenProtect__1  GenProtect__2\n",
      "count      84.000      84.000         84.000         84.000\n",
      "mean        4.226       2.940          0.810         -0.405\n",
      "std         1.547       1.852          0.736          0.679\n",
      "min         2.000       0.000          0.000         -3.000\n",
      "25%         3.000       2.000          0.000         -1.000\n",
      "50%         4.000       3.000          1.000          0.000\n",
      "75%         5.000       4.000          1.000          0.000\n",
      "max         8.000       7.000          3.000          0.000\n"
     ]
    }
   ],
   "source": [
    "print( df_ext[genetic_risk].describe() )"
   ]
  },
  {
   "cell_type": "code",
   "execution_count": 74,
   "metadata": {},
   "outputs": [],
   "source": [
    "df_ext['GenRisk__1_scaled']    = (df_ext['GenRisk__1'].copy()    - 4.23)  / 1.55\n",
    "df_ext['GenProtect__1_scaled'] = (df_ext['GenProtect__1'].copy() - 0.81)  / 0.74\n",
    "\n",
    "df_ext['GenRisk__2_scaled']    = (df_ext['GenRisk__2'].copy()    - 2.94)  / 1.85\n",
    "df_ext['GenProtect__2_scaled'] = (df_ext['GenProtect__2'].copy() + 0.405) / 0.68"
   ]
  },
  {
   "cell_type": "code",
   "execution_count": 75,
   "metadata": {},
   "outputs": [],
   "source": [
    "genetic_risk__1_scaled = ['GenRisk__1_scaled', 'GenProtect__1_scaled']\n",
    "genetic_risk__2_scaled = ['GenRisk__2_scaled', 'GenProtect__2_scaled']\n",
    "genetic_risk_scaled    = ['GenRisk__1_scaled',    'GenRisk__2_scaled', \n",
    "                          'GenProtect__1_scaled', 'GenProtect__2_scaled']\n",
    "\n",
    "# Remove last 3 elements from the list\n",
    "# features = features[:-3]\n",
    "#[0,1,2,3,4,5,6,7,8,9][:-3]\n",
    "\n",
    "features = features + [('genetic_risk__1_scaled', genetic_risk__1_scaled)]\n",
    "features = features + [('genetic_risk__2_scaled', genetic_risk__2_scaled)]\n",
    "features = features + [('genetic_risk_scaled',    genetic_risk_scaled)]"
   ]
  },
  {
   "cell_type": "code",
   "execution_count": 76,
   "metadata": {},
   "outputs": [
    {
     "name": "stdout",
     "output_type": "stream",
     "text": [
      "       GenRisk__1_scaled  GenRisk__2_scaled  GenProtect__1_scaled  \\\n",
      "count             84.000          8.400e+01             8.400e+01   \n",
      "mean              -0.002          2.574e-04            -6.435e-04   \n",
      "std                0.998          1.001e+00             9.945e-01   \n",
      "min               -1.439         -1.589e+00            -1.095e+00   \n",
      "25%               -0.794         -5.081e-01            -1.095e+00   \n",
      "50%               -0.148          3.243e-02             2.568e-01   \n",
      "75%                0.497          5.730e-01             2.568e-01   \n",
      "max                2.432          2.195e+00             2.959e+00   \n",
      "\n",
      "       GenProtect__2_scaled  \n",
      "count             8.400e+01  \n",
      "mean              3.501e-04  \n",
      "std               9.982e-01  \n",
      "min              -3.816e+00  \n",
      "25%              -8.750e-01  \n",
      "50%               5.956e-01  \n",
      "75%               5.956e-01  \n",
      "max               5.956e-01  \n"
     ]
    }
   ],
   "source": [
    "print( df_ext[genetic_risk_scaled].describe() )"
   ]
  },
  {
   "cell_type": "markdown",
   "metadata": {},
   "source": [
    "### Сохраняем обработанные данные и группы колонок\n",
    "#### Сохраняем данные"
   ]
  },
  {
   "cell_type": "code",
   "execution_count": 77,
   "metadata": {},
   "outputs": [],
   "source": [
    "data_features_ext = combine_features(\n",
    "                       [target, relatives, \n",
    "                        sex, sex_cat, \n",
    "                        bmi, bmi_scaled,\n",
    "                        symptom, \n",
    "                        cirrhosis, activity, childpugh_dummy,\n",
    "                        debut_age, debut_age_scaled,\n",
    "                        debut_organ,\n",
    "                        genetic, genetic__1, genetic__2, \n",
    "                        genetic_dummy,\n",
    "                        genetic_risk__1, genetic_risk__2, \n",
    "                        genetic_risk__1_scaled, genetic_risk__2_scaled\n",
    "                       ],\n",
    "                       exclude)"
   ]
  },
  {
   "cell_type": "code",
   "execution_count": 78,
   "metadata": {},
   "outputs": [
    {
     "name": "stdout",
     "output_type": "stream",
     "text": [
      "['TargetHead', 'TargetHeadRelativeMax', 'Sex', 'Sex M/F', 'BMI', 'Height', 'Mass', 'BMI_scaled', 'Height_scaled', 'Mass_scaled', 'KKF', 'Cirrhosis', 'ChildPugh', 'Advanced', 'Activity', 'ChildPugh_0', 'ChildPugh_1', 'ChildPugh_2', 'ChildPugh_3', 'DebutAge', 'DebutAge_scaled', 'DebutLiver', 'DebutNeuro', 'DebutKidney', 'DebutEndocr', 'DebutSibs', 'DebutVasku', 'DebutGemAnem', 'DebutSelez', 'DebutOther', 'F2', 'F5', 'F7', 'F13', 'ITGA2', 'ITGB3', 'PAI_1', 'FGB', 'MTHFR_677', 'MTHFR_1298', 'F2__1', 'F5__1', 'F7__1', 'F13__1', 'ITGA2__1', 'ITGB3__1', 'PAI_1__1', 'FGB__1', 'MTHFR_677__1', 'MTHFR_1298__1', 'F2__2', 'F5__2', 'F7__2', 'F13__2', 'ITGA2__2', 'ITGB3__2', 'PAI_1__2', 'FGB__2', 'MTHFR_677__2', 'MTHFR_1298__2', 'F2_GA', 'F2_GG', 'F5_GA', 'F5_GG', 'F7_GA', 'F7_GG', 'F13_GG', 'F13_GT', 'F13_TT', 'ITGA2_CC', 'ITGA2_CT', 'ITGA2_TT', 'ITGB3_TC', 'ITGB3_TT', 'PAI_1_4G4G', 'PAI_1_5G4G', 'PAI_1_5G5G', 'FGB_AA', 'FGB_GA', 'FGB_GG', 'MTHFR_677_CC', 'MTHFR_677_CT', 'MTHFR_677_TT', 'MTHFR_1298_AA', 'MTHFR_1298_AC', 'MTHFR_1298_CC', 'GenRisk__1', 'GenProtect__1', 'GenRisk__2', 'GenProtect__2', 'GenRisk__1_scaled', 'GenProtect__1_scaled', 'GenRisk__2_scaled', 'GenProtect__2_scaled']\n"
     ]
    }
   ],
   "source": [
    "print(data_features_ext)"
   ]
  },
  {
   "cell_type": "markdown",
   "metadata": {},
   "source": [
    "#### Запись данных в файл: `pd.to_cvs`\n",
    "https://pandas.pydata.org/pandas-docs/stable/generated/pandas.DataFrame.to_csv.html\n",
    "<br> https://stackoverflow.com/questions/27370046/closing-file-after-using-to-csv"
   ]
  },
  {
   "cell_type": "code",
   "execution_count": 79,
   "metadata": {},
   "outputs": [
    {
     "data": {
      "text/plain": [
       "'../data_csv/'"
      ]
     },
     "execution_count": 79,
     "metadata": {},
     "output_type": "execute_result"
    }
   ],
   "source": [
    "data_dir"
   ]
  },
  {
   "cell_type": "code",
   "execution_count": 80,
   "metadata": {},
   "outputs": [],
   "source": [
    "outfile = open(data_dir + 'Wilson_ext.csv', 'w')\n",
    "df_ext[data_features_ext].to_csv(outfile, sep=';', index=False, encoding='utf-8', chunksize=1)\n",
    "outfile.close()"
   ]
  },
  {
   "cell_type": "markdown",
   "metadata": {},
   "source": [
    "#### Чтение данных из сохранённого файла"
   ]
  },
  {
   "cell_type": "code",
   "execution_count": 81,
   "metadata": {},
   "outputs": [
    {
     "name": "stdout",
     "output_type": "stream",
     "text": [
      "Index(['TargetHead', 'TargetHeadRelativeMax', 'Sex', 'Sex M/F', 'BMI',\n",
      "       'Height', 'Mass', 'BMI_scaled', 'Height_scaled', 'Mass_scaled', 'KKF',\n",
      "       'Cirrhosis', 'ChildPugh', 'Advanced', 'Activity', 'ChildPugh_0',\n",
      "       'ChildPugh_1', 'ChildPugh_2', 'ChildPugh_3', 'DebutAge',\n",
      "       'DebutAge_scaled', 'DebutLiver', 'DebutNeuro', 'DebutKidney',\n",
      "       'DebutEndocr', 'DebutSibs', 'DebutVasku', 'DebutGemAnem', 'DebutSelez',\n",
      "       'DebutOther', 'F2', 'F5', 'F7', 'F13', 'ITGA2', 'ITGB3', 'PAI_1', 'FGB',\n",
      "       'MTHFR_677', 'MTHFR_1298', 'F2__1', 'F5__1', 'F7__1', 'F13__1',\n",
      "       'ITGA2__1', 'ITGB3__1', 'PAI_1__1', 'FGB__1', 'MTHFR_677__1',\n",
      "       'MTHFR_1298__1', 'F2__2', 'F5__2', 'F7__2', 'F13__2', 'ITGA2__2',\n",
      "       'ITGB3__2', 'PAI_1__2', 'FGB__2', 'MTHFR_677__2', 'MTHFR_1298__2',\n",
      "       'F2_GA', 'F2_GG', 'F5_GA', 'F5_GG', 'F7_GA', 'F7_GG', 'F13_GG',\n",
      "       'F13_GT', 'F13_TT', 'ITGA2_CC', 'ITGA2_CT', 'ITGA2_TT', 'ITGB3_TC',\n",
      "       'ITGB3_TT', 'PAI_1_4G4G', 'PAI_1_5G4G', 'PAI_1_5G5G', 'FGB_AA',\n",
      "       'FGB_GA', 'FGB_GG', 'MTHFR_677_CC', 'MTHFR_677_CT', 'MTHFR_677_TT',\n",
      "       'MTHFR_1298_AA', 'MTHFR_1298_AC', 'MTHFR_1298_CC', 'GenRisk__1',\n",
      "       'GenProtect__1', 'GenRisk__2', 'GenProtect__2', 'GenRisk__1_scaled',\n",
      "       'GenProtect__1_scaled', 'GenRisk__2_scaled', 'GenProtect__2_scaled'],\n",
      "      dtype='object')\n"
     ]
    }
   ],
   "source": [
    "df_ext2 = pd.read_csv(data_dir + 'Wilson_ext.csv', sep=';', encoding='utf-8') \n",
    "print(df_ext2.columns)"
   ]
  },
  {
   "cell_type": "markdown",
   "metadata": {},
   "source": [
    "#### Сохраняем группы колонок\n",
    "Сохраняем в формате `json`. Библиотека `simplejson`. \n",
    "\n",
    "Адаптировал к Python 3 утилиты `data_to_json` и `json_to_data`  из статьи [Serializing Python Data To Json - Some Edge Cases](http://robotfantastic.org/serializing-python-data-to-json-some-edge-cases.html) by Chris Wagner."
   ]
  },
  {
   "cell_type": "code",
   "execution_count": 82,
   "metadata": {},
   "outputs": [],
   "source": [
    "# !conda install simplejson\n",
    "%run data_to_json"
   ]
  },
  {
   "cell_type": "code",
   "execution_count": 83,
   "metadata": {},
   "outputs": [],
   "source": [
    "from collections import OrderedDict"
   ]
  },
  {
   "cell_type": "code",
   "execution_count": 84,
   "metadata": {
    "scrolled": true
   },
   "outputs": [
    {
     "data": {
      "text/plain": [
       "['BMI', 'Height', 'Mass']"
      ]
     },
     "execution_count": 84,
     "metadata": {},
     "output_type": "execute_result"
    }
   ],
   "source": [
    "json_to_data(data_to_json(OrderedDict(features)))['bmi']  # ['target']"
   ]
  },
  {
   "cell_type": "code",
   "execution_count": 85,
   "metadata": {},
   "outputs": [],
   "source": [
    "features_file = open(data_dir + 'features_file.json', 'w')\n",
    "with features_file:\n",
    "    features_file.write( data_to_json(OrderedDict(features)) )\n",
    "    # json.dump(json_format, features_file)\n",
    "features_file.close()"
   ]
  },
  {
   "cell_type": "code",
   "execution_count": 86,
   "metadata": {},
   "outputs": [],
   "source": [
    "# json_format = json.dumps(features)\n",
    "# json.loads(json_format, object_pairs_hook=OrderedDict)"
   ]
  },
  {
   "cell_type": "markdown",
   "metadata": {},
   "source": [
    "##### Прочтём и проверим, что получилось"
   ]
  },
  {
   "cell_type": "code",
   "execution_count": 87,
   "metadata": {},
   "outputs": [
    {
     "name": "stdout",
     "output_type": "stream",
     "text": [
      "OrderedDict([('target', ['TargetHead']), ('relatives', ['TargetHeadRelativeMax']), ('sex', ['Sex']), ('bmi', ['BMI', 'Height', 'Mass']), ('symptom', ['KKF']), ('cirrhosis', ['Cirrhosis', 'ChildPugh', 'Advanced']), ('activity', ['Activity']), ('debut_age', ['DebutAge']), ('debut_organ', ['DebutLiver', 'DebutNeuro', 'DebutKidney', 'DebutEndocr', 'DebutSibs', 'DebutVasku', 'DebutGemAnem', 'DebutSelez', 'DebutOther']), ('genetic', ['F2', 'F5', 'F7', 'F13', 'ITGA2', 'ITGB3', 'PAI_1', 'FGB', 'MTHFR_677', 'MTHFR_1298']), ('exclude', ['Target', 'TargetRelativeMax']), ('exclude_model', ['FamilyID', 'DebutNeuro', 'Target', 'TargetRelativeMax']), ('num_to_scale', ['BMI', 'Height', 'Mass', 'DebutAge', 'ChildPugh']), ('num_scaled', ['BMI_scaled', 'Height_scaled', 'Mass_scaled', 'DebutAge_scaled', 'ChildPugh_scaled']), ('bmi_scaled', ['BMI_scaled', 'Height_scaled', 'Mass_scaled']), ('debut_age_scaled', ['DebutAge_scaled']), ('sex_cat', ['Sex M/F']), ('childpugh_dummy', ['ChildPugh_0', 'ChildPugh_1', 'ChildPugh_2', 'ChildPugh_3']), ('genetic_dummy', ['F2_GA', 'F2_GG', 'F5_GA', 'F5_GG', 'F7_GA', 'F7_GG', 'F13_GG', 'F13_GT', 'F13_TT', 'ITGA2_CC', 'ITGA2_CT', 'ITGA2_TT', 'ITGB3_TC', 'ITGB3_TT', 'PAI_1_4G4G', 'PAI_1_5G4G', 'PAI_1_5G5G', 'FGB_AA', 'FGB_GA', 'FGB_GG', 'MTHFR_677_CC', 'MTHFR_677_CT', 'MTHFR_677_TT', 'MTHFR_1298_AA', 'MTHFR_1298_AC', 'MTHFR_1298_CC']), ('genetic__1', ['F2__1', 'F5__1', 'F7__1', 'F13__1', 'ITGA2__1', 'ITGB3__1', 'PAI_1__1', 'FGB__1', 'MTHFR_677__1', 'MTHFR_1298__1']), ('genetic__2', ['F2__2', 'F5__2', 'F7__2', 'F13__2', 'ITGA2__2', 'ITGB3__2', 'PAI_1__2', 'FGB__2', 'MTHFR_677__2', 'MTHFR_1298__2']), ('genetic_risk__1', ['GenRisk__1', 'GenProtect__1']), ('genetic_risk__2', ['GenRisk__2', 'GenProtect__2']), ('genetic_risk', ['GenRisk__1', 'GenRisk__2', 'GenProtect__1', 'GenProtect__2']), ('genetic_risk__1_scaled', ['GenRisk__1_scaled', 'GenProtect__1_scaled']), ('genetic_risk__2_scaled', ['GenRisk__2_scaled', 'GenProtect__2_scaled']), ('genetic_risk_scaled', ['GenRisk__1_scaled', 'GenRisk__2_scaled', 'GenProtect__1_scaled', 'GenProtect__2_scaled'])])\n"
     ]
    },
    {
     "data": {
      "text/plain": [
       "collections.OrderedDict"
      ]
     },
     "execution_count": 87,
     "metadata": {},
     "output_type": "execute_result"
    }
   ],
   "source": [
    "features_file = open(data_dir + 'features_file.json', 'r')\n",
    "features_loaded = json_to_data( features_file.read() )\n",
    "#features_loaded = json.load(features_file, object_pairs_hook=OrderedDict)\n",
    "features_file.close()\n",
    "\n",
    "print(features_loaded)\n",
    "type(features_loaded)"
   ]
  },
  {
   "cell_type": "code",
   "execution_count": 88,
   "metadata": {},
   "outputs": [
    {
     "data": {
      "text/plain": [
       "['TargetHead']"
      ]
     },
     "execution_count": 88,
     "metadata": {},
     "output_type": "execute_result"
    }
   ],
   "source": [
    "features_loaded[\"target\"]"
   ]
  },
  {
   "cell_type": "code",
   "execution_count": 89,
   "metadata": {},
   "outputs": [
    {
     "name": "stdout",
     "output_type": "stream",
     "text": [
      "target:  ['TargetHead']\n",
      "relatives:  ['TargetHeadRelativeMax']\n",
      "sex:  ['Sex']\n",
      "bmi:  ['BMI', 'Height', 'Mass']\n",
      "symptom:  ['KKF']\n",
      "cirrhosis:  ['Cirrhosis', 'ChildPugh', 'Advanced']\n",
      "activity:  ['Activity']\n",
      "debut_age:  ['DebutAge']\n",
      "debut_organ:  ['DebutLiver', 'DebutNeuro', 'DebutKidney', 'DebutEndocr', 'DebutSibs', 'DebutVasku', 'DebutGemAnem', 'DebutSelez', 'DebutOther']\n",
      "genetic:  ['F2', 'F5', 'F7', 'F13', 'ITGA2', 'ITGB3', 'PAI_1', 'FGB', 'MTHFR_677', 'MTHFR_1298']\n",
      "exclude:  ['Target', 'TargetRelativeMax']\n",
      "exclude_model:  ['FamilyID', 'DebutNeuro', 'Target', 'TargetRelativeMax']\n",
      "num_to_scale:  ['BMI', 'Height', 'Mass', 'DebutAge', 'ChildPugh']\n",
      "num_scaled:  ['BMI_scaled', 'Height_scaled', 'Mass_scaled', 'DebutAge_scaled', 'ChildPugh_scaled']\n",
      "bmi_scaled:  ['BMI_scaled', 'Height_scaled', 'Mass_scaled']\n",
      "debut_age_scaled:  ['DebutAge_scaled']\n",
      "sex_cat:  ['Sex M/F']\n",
      "childpugh_dummy:  ['ChildPugh_0', 'ChildPugh_1', 'ChildPugh_2', 'ChildPugh_3']\n",
      "genetic_dummy:  ['F2_GA', 'F2_GG', 'F5_GA', 'F5_GG', 'F7_GA', 'F7_GG', 'F13_GG', 'F13_GT', 'F13_TT', 'ITGA2_CC', 'ITGA2_CT', 'ITGA2_TT', 'ITGB3_TC', 'ITGB3_TT', 'PAI_1_4G4G', 'PAI_1_5G4G', 'PAI_1_5G5G', 'FGB_AA', 'FGB_GA', 'FGB_GG', 'MTHFR_677_CC', 'MTHFR_677_CT', 'MTHFR_677_TT', 'MTHFR_1298_AA', 'MTHFR_1298_AC', 'MTHFR_1298_CC']\n",
      "genetic__1:  ['F2__1', 'F5__1', 'F7__1', 'F13__1', 'ITGA2__1', 'ITGB3__1', 'PAI_1__1', 'FGB__1', 'MTHFR_677__1', 'MTHFR_1298__1']\n",
      "genetic__2:  ['F2__2', 'F5__2', 'F7__2', 'F13__2', 'ITGA2__2', 'ITGB3__2', 'PAI_1__2', 'FGB__2', 'MTHFR_677__2', 'MTHFR_1298__2']\n",
      "genetic_risk__1:  ['GenRisk__1', 'GenProtect__1']\n",
      "genetic_risk__2:  ['GenRisk__2', 'GenProtect__2']\n",
      "genetic_risk:  ['GenRisk__1', 'GenRisk__2', 'GenProtect__1', 'GenProtect__2']\n",
      "genetic_risk__1_scaled:  ['GenRisk__1_scaled', 'GenProtect__1_scaled']\n",
      "genetic_risk__2_scaled:  ['GenRisk__2_scaled', 'GenProtect__2_scaled']\n",
      "genetic_risk_scaled:  ['GenRisk__1_scaled', 'GenRisk__2_scaled', 'GenProtect__1_scaled', 'GenProtect__2_scaled']\n"
     ]
    }
   ],
   "source": [
    "for (k,v) in features_loaded.items():\n",
    "    print(k + \": \", v)"
   ]
  },
  {
   "cell_type": "code",
   "execution_count": null,
   "metadata": {},
   "outputs": [],
   "source": []
  }
 ],
 "metadata": {
  "kernelspec": {
   "display_name": "Python 3",
   "language": "python",
   "name": "python3"
  },
  "language_info": {
   "codemirror_mode": {
    "name": "ipython",
    "version": 3
   },
   "file_extension": ".py",
   "mimetype": "text/x-python",
   "name": "python",
   "nbconvert_exporter": "python",
   "pygments_lexer": "ipython3",
   "version": "3.6.4"
  }
 },
 "nbformat": 4,
 "nbformat_minor": 2
}
