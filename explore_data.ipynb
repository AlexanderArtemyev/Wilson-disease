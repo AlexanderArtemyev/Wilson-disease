{
 "cells": [
  {
   "cell_type": "markdown",
   "metadata": {},
   "source": [
    "## Exploratory data analysis\n",
    "**Изучение данных**"
   ]
  },
  {
   "cell_type": "code",
   "execution_count": 1,
   "metadata": {
    "collapsed": false
   },
   "outputs": [
    {
     "name": "stdout",
     "output_type": "stream",
     "text": [
      "Populating the interactive namespace from numpy and matplotlib\n"
     ]
    }
   ],
   "source": [
    "import numpy as np\n",
    "import pandas as pd\n",
    "\n",
    "pd.set_option('display.max_columns', 70)   # Настройка отображения данных в Jupyter notebook\n",
    "pd.set_option('display.max_rows', 100)\n",
    "pd.set_option('precision', 3)\n",
    "\n",
    "%pylab inline\n",
    "# Visualization and Graphics\n",
    "%matplotlib inline\n",
    "import matplotlib.pyplot as plt\n",
    "\n",
    "# !conda install seaborn \n",
    "import seaborn as sns\n",
    "plt.rcParams['figure.figsize'] = (7,7)   # (8,6)\n",
    "\n",
    "#!pip install ggplot\n",
    "matplotlib.style.use('ggplot')       # Use ggplot style plots"
   ]
  },
  {
   "cell_type": "code",
   "execution_count": 2,
   "metadata": {
    "collapsed": false
   },
   "outputs": [
    {
     "name": "stdout",
     "output_type": "stream",
     "text": [
      "Index(['TargetHead', 'TargetHeadRelativeMax', 'Sex', 'Sex M/F', 'BMI',\n",
      "       'Height', 'Mass', 'BMI_scaled', 'Height_scaled', 'Mass_scaled', 'KKF',\n",
      "       'Cirrhosis', 'ChildPugh', 'Advanced', 'Activity', 'DebutAge',\n",
      "       'DebutAge_scaled', 'DebutLiver', 'DebutNeuro', 'DebutKidney',\n",
      "       'DebutEndocr', 'DebutSibs', 'DebutVasku', 'DebutGemAnem', 'DebutSelez',\n",
      "       'DebutOther', 'F2', 'F5', 'F7', 'F13', 'ITGA2', 'ITGB3', 'PAI_1', 'FGB',\n",
      "       'MTHFR_677', 'MTHFR_1298', 'F2__1', 'F5__1', 'F7__1', 'F13__1',\n",
      "       'ITGA2__1', 'ITGB3__1', 'PAI_1__1', 'FGB__1', 'MTHFR_677__1',\n",
      "       'MTHFR_1298__1', 'F2__2', 'F5__2', 'F7__2', 'F13__2', 'ITGA2__2',\n",
      "       'ITGB3__2', 'PAI_1__2', 'FGB__2', 'MTHFR_677__2', 'MTHFR_1298__2',\n",
      "       'F2_GA', 'F2_GG', 'F5_GA', 'F5_GG', 'F7_GA', 'F7_GG', 'F13_GG',\n",
      "       'F13_GT', 'F13_TT', 'ITGA2_CC', 'ITGA2_CT', 'ITGA2_TT', 'ITGB3_TC',\n",
      "       'ITGB3_TT', 'PAI_1_4G4G', 'PAI_1_5G4G', 'PAI_1_5G5G', 'FGB_AA',\n",
      "       'FGB_GA', 'FGB_GG', 'MTHFR_677_CC', 'MTHFR_677_CT', 'MTHFR_677_TT',\n",
      "       'MTHFR_1298_AA', 'MTHFR_1298_AC', 'MTHFR_1298_CC', 'GenRisk__1',\n",
      "       'GenRisk__2', 'GenProtect__1', 'GenProtect__2'],\n",
      "      dtype='object')\n"
     ]
    }
   ],
   "source": [
    "# Чтение данных из сохранённого файла\n",
    "\n",
    "df_ext = pd.DataFrame()\n",
    "df_ext = pd.read_csv('../Wilson_2/Wilson_ext.csv', sep=';', encoding='utf-8') \n",
    "print(df_ext.columns)"
   ]
  },
  {
   "cell_type": "markdown",
   "metadata": {},
   "source": [
    "### Группировка признаков\n",
    "\n",
    "Группы выделены в соответствии со смыслом данных, форматом их представления, <br> планируемой логикой их обработки и использования.\n",
    "\n",
    "- `target_features`, \n",
    "- `relatives_features`, \n",
    "- `sex_features`, `sex_features_cat`, \n",
    "- `bmi_features`, `bmi_features_scaled`,\n",
    "- `symptom_features`, `cirrhosis_features`, \n",
    "- `debut_age_features`, `debut_age_features_scaled`,\n",
    "- `debut_organ_features`,\n",
    "- `genetic_features`, `genetic_features__1`, `genetic_features__2`, `genetic_features__dummy`, `genetic_risk_features`\n",
    "- `exclude_features`"
   ]
  },
  {
   "cell_type": "code",
   "execution_count": 3,
   "metadata": {
    "collapsed": true
   },
   "outputs": [],
   "source": [
    "target_features        = ['TargetHead']                                                    # TargetHead = ifelse(Target == 3, 1, 0)\n",
    "relatives_features     = ['TargetHeadRelativeMax']                                         # Наихудший диагноз у родсттвенников\n",
    "sex_features           = ['Sex']                                                           # Пол\n",
    "bmi_features           = ['BMI', 'Height', 'Mass']                                         # Идекс массы тела, Рост, Вес\n",
    "symptom_features       = ['KKF']                                                           # Симптом: Кольца Кайзера — Флейшера\n",
    "cirrhosis_features     = ['Cirrhosis', 'ChildPugh', 'Advanced', 'Activity']                # Цирроз: Стадия. Активность (динамика).\n",
    "debut_age_features     = ['DebutAge']                                                      # Дебют заболвания: возраст\n",
    "debut_organ_features   = ['DebutLiver', 'DebutNeuro', 'DebutKidney', 'DebutEndocr',        # Дебют заболвания: что выявили\n",
    "                          'DebutSibs', 'DebutVasku', 'DebutGemAnem', 'DebutSelez', 'DebutOther']\n",
    "genetic_features       = ['F2', 'F5', 'F7', 'F13', 'ITGA2', 'ITGB3',                       # Генетические признаки \n",
    "                          'PAI_1', 'FGB', 'MTHFR_677', 'MTHFR_1298']\n",
    "exclude_features       = ['Target', 'TargetRelativeMax']                                   # Исключить из данных\n",
    "exclude_model_features = ['FamilyID', 'DebutNeuro'] + exclude_features                     # Исключить из модели"
   ]
  },
  {
   "cell_type": "code",
   "execution_count": 4,
   "metadata": {
    "collapsed": true
   },
   "outputs": [],
   "source": [
    "num_features_to_scale     = ['BMI','Height','Mass','DebutAge']                             # Числовые показатели\n",
    "num_features_scaled       = ['BMI_scaled','Height_scaled','Mass_scaled','DebutAge_scaled']\n",
    "\n",
    "# Группировка\n",
    "bmi_features_scaled       = ['BMI_scaled','Height_scaled','Mass_scaled']\n",
    "debut_age_features_scaled = ['DebutAge_scaled']"
   ]
  },
  {
   "cell_type": "code",
   "execution_count": 5,
   "metadata": {
    "collapsed": true
   },
   "outputs": [],
   "source": [
    "sex_features_cat = ['Sex M/F']"
   ]
  },
  {
   "cell_type": "code",
   "execution_count": 6,
   "metadata": {
    "collapsed": true
   },
   "outputs": [],
   "source": [
    "genetic_features__dummy = ['F2_GA', 'F2_GG', 'F5_GA', 'F5_GG', 'F7_GA', 'F7_GG', \n",
    "                           'F13_GG', 'F13_GT', 'F13_TT', 'ITGA2_CC', 'ITGA2_CT', 'ITGA2_TT', \n",
    "                           'ITGB3_TC', 'ITGB3_TT', 'PAI_1_4G4G', 'PAI_1_5G4G', 'PAI_1_5G5G', \n",
    "                           'FGB_AA', 'FGB_GA', 'FGB_GG', 'MTHFR_677_CC', 'MTHFR_677_CT', 'MTHFR_677_TT', \n",
    "                           'MTHFR_1298_AA', 'MTHFR_1298_AC', 'MTHFR_1298_CC']\n",
    "\n",
    "genetic_features__1 = ['F2__1', 'F5__1', 'F7__1', 'F13__1', 'ITGA2__1', 'ITGB3__1', \n",
    "                       'PAI_1__1', 'FGB__1', 'MTHFR_677__1', 'MTHFR_1298__1']\n",
    "\n",
    "genetic_features__2 = ['F2__2', 'F5__2', 'F7__2', 'F13__2', 'ITGA2__2', 'ITGB3__2', \n",
    "                       'PAI_1__2', 'FGB__2', 'MTHFR_677__2', 'MTHFR_1298__2']\n",
    "\n",
    "genetic_risk_features = ['GenRisk__1', 'GenRisk__2', 'GenProtect__1', 'GenProtect__2']"
   ]
  },
  {
   "cell_type": "code",
   "execution_count": 7,
   "metadata": {
    "collapsed": true
   },
   "outputs": [],
   "source": [
    "def combine_features(all_feat_list, exclude_feat):\n",
    "    combined_list = list()\n",
    "    for sublist in all_feat_list:\n",
    "        for item in sublist:\n",
    "            combined_list.append(item)\n",
    "    combined_list = [x for x in combined_list if x not in exclude_features]\n",
    "    return(combined_list)"
   ]
  },
  {
   "cell_type": "code",
   "execution_count": 8,
   "metadata": {
    "collapsed": false
   },
   "outputs": [
    {
     "name": "stdout",
     "output_type": "stream",
     "text": [
      "['TargetHead', 'TargetHeadRelativeMax', 'Sex', 'BMI', 'Height', 'Mass', 'KKF', 'Cirrhosis', 'ChildPugh', 'Advanced', 'Activity', 'DebutAge', 'DebutLiver', 'DebutNeuro', 'DebutKidney', 'DebutEndocr', 'DebutSibs', 'DebutVasku', 'DebutGemAnem', 'DebutSelez', 'DebutOther', 'F2', 'F5', 'F7', 'F13', 'ITGA2', 'ITGB3', 'PAI_1', 'FGB', 'MTHFR_677', 'MTHFR_1298']\n"
     ]
    }
   ],
   "source": [
    "data_features = combine_features([ target_features, relatives_features, sex_features, bmi_features, symptom_features, \n",
    "                                   cirrhosis_features, debut_age_features, debut_organ_features, genetic_features ],\n",
    "                                 exclude_features)\n",
    "\n",
    "print(data_features)"
   ]
  },
  {
   "cell_type": "code",
   "execution_count": 9,
   "metadata": {
    "collapsed": false
   },
   "outputs": [
    {
     "name": "stdout",
     "output_type": "stream",
     "text": [
      "['TargetHead', 'TargetHeadRelativeMax', 'Sex', 'Sex M/F', 'BMI', 'Height', 'Mass', 'BMI_scaled', 'Height_scaled', 'Mass_scaled', 'KKF', 'Cirrhosis', 'ChildPugh', 'Advanced', 'Activity', 'DebutAge', 'DebutAge_scaled', 'DebutLiver', 'DebutNeuro', 'DebutKidney', 'DebutEndocr', 'DebutSibs', 'DebutVasku', 'DebutGemAnem', 'DebutSelez', 'DebutOther', 'F2', 'F5', 'F7', 'F13', 'ITGA2', 'ITGB3', 'PAI_1', 'FGB', 'MTHFR_677', 'MTHFR_1298', 'F2__1', 'F5__1', 'F7__1', 'F13__1', 'ITGA2__1', 'ITGB3__1', 'PAI_1__1', 'FGB__1', 'MTHFR_677__1', 'MTHFR_1298__1', 'F2__2', 'F5__2', 'F7__2', 'F13__2', 'ITGA2__2', 'ITGB3__2', 'PAI_1__2', 'FGB__2', 'MTHFR_677__2', 'MTHFR_1298__2', 'F2_GA', 'F2_GG', 'F5_GA', 'F5_GG', 'F7_GA', 'F7_GG', 'F13_GG', 'F13_GT', 'F13_TT', 'ITGA2_CC', 'ITGA2_CT', 'ITGA2_TT', 'ITGB3_TC', 'ITGB3_TT', 'PAI_1_4G4G', 'PAI_1_5G4G', 'PAI_1_5G5G', 'FGB_AA', 'FGB_GA', 'FGB_GG', 'MTHFR_677_CC', 'MTHFR_677_CT', 'MTHFR_677_TT', 'MTHFR_1298_AA', 'MTHFR_1298_AC', 'MTHFR_1298_CC', 'GenRisk__1', 'GenRisk__2', 'GenProtect__1', 'GenProtect__2']\n"
     ]
    }
   ],
   "source": [
    "data_features_ext = combine_features(\n",
    "                       [target_features, relatives_features, \n",
    "                        sex_features, sex_features_cat, \n",
    "                        bmi_features, bmi_features_scaled,\n",
    "                        symptom_features, \n",
    "                        cirrhosis_features, \n",
    "                        debut_age_features, debut_age_features_scaled,\n",
    "                        debut_organ_features,\n",
    "                        genetic_features, genetic_features__1, genetic_features__2, genetic_features__dummy, \n",
    "                        genetic_risk_features ],\n",
    "                       exclude_features)\n",
    "print(data_features_ext)"
   ]
  },
  {
   "cell_type": "markdown",
   "metadata": {},
   "source": [
    "### Корреляция признаков с целевым показателем: `TargetHead`"
   ]
  },
  {
   "cell_type": "code",
   "execution_count": 14,
   "metadata": {
    "collapsed": false
   },
   "outputs": [
    {
     "name": "stderr",
     "output_type": "stream",
     "text": [
      "d:\\Anaconda2\\envs\\py35\\lib\\site-packages\\scipy\\stats\\stats.py:3003: RuntimeWarning: invalid value encountered in double_scalars\n",
      "  r = r_num / r_den\n",
      "d:\\Anaconda2\\envs\\py35\\lib\\site-packages\\scipy\\stats\\stats.py:5240: RuntimeWarning: invalid value encountered in less\n",
      "  x = np.where(x < 1.0, x, 1.0)  # if x > 1 then return 1.0\n"
     ]
    },
    {
     "data": {
      "text/plain": [
       "[['TargetHead', 1.0, 0.0],\n",
       " ['Sex', -0.22927937978192142, 0.035911495159464402],\n",
       " ['KKF', 0.26158848877532831, 0.016903645410302471],\n",
       " ['Activity', -0.23918436725188669, 0.028435511116051953],\n",
       " ['DebutAge', 0.20020303986334537, 0.067860669401167265],\n",
       " ['DebutAge_scaled', 0.20020303986334537, 0.067860669401167265],\n",
       " ['DebutLiver', -0.49255091823498787, 1.9433730000551836e-06],\n",
       " ['DebutNeuro', 0.58981494448452521, 3.5576393920252129e-09],\n",
       " ['F2__1', 0.19414946125026813, 0.07678932841393285],\n",
       " ['F5__1', 0.23924685418842445, 0.028392887436191453],\n",
       " ['ITGA2__1', 0.26517934510128699, 0.014776685269067677],\n",
       " ['F2__2', 0.19414946125026813, 0.07678932841393285],\n",
       " ['F5__2', 0.23924685418842445, 0.028392887436191453],\n",
       " ['PAI_1__2', 0.25854384499750954, 0.017567313671562279],\n",
       " ['F2_GA', 0.19414946125026813, 0.07678932841393285],\n",
       " ['F2_GG', -0.19414946125026816, 0.07678932841393285],\n",
       " ['F5_GA', 0.23924685418842445, 0.028392887436191453],\n",
       " ['F5_GG', -0.23924685418842445, 0.028392887436191453],\n",
       " ['ITGA2_CC', -0.31025261399701148, 0.0040770213460164925],\n",
       " ['ITGA2_CT', 0.18090680674665816, 0.099596526095120611],\n",
       " ['PAI_1_4G4G', 0.25854384499750954, 0.017567313671562279],\n",
       " ['PAI_1_5G4G', -0.30257690382653685, 0.0051498851521371717],\n",
       " ['GenRisk__1', 0.32546617716916815, 0.0025197644864378248],\n",
       " ['GenRisk__2', 0.32692147538321109, 0.0024033028491771556]]"
      ]
     },
     "execution_count": 14,
     "metadata": {},
     "output_type": "execute_result"
    }
   ],
   "source": [
    "import scipy.stats  as stats\n",
    "\n",
    "correlation = list()\n",
    "for i in range(len(df_ext.columns)):\n",
    "    col_x = df_ext.columns[i]\n",
    "    #print(col_x)\n",
    "    df_xy = df_ext[[col_x, 'TargetHead']].dropna()\n",
    "    x, y = df_xy.iloc[:,0].values, df_xy.iloc[:,1].values\n",
    "    try:\n",
    "        x = [float(i) for i in x]\n",
    "        y = [float(i) for i in y]\n",
    "        \n",
    "        corr_pearson = stats.pearsonr(x, y)\n",
    "        corr_pearson_value   = corr_pearson[0]\n",
    "        corr_pearson_p_value = corr_pearson[1]\n",
    "        #corr_s = stats.spearmanr(x, y)\n",
    "        if corr_pearson_p_value < 0.1:\n",
    "            correlation.append([col_x, corr_pearson_value, corr_pearson_p_value])    #, corr_s ])\n",
    "        #print(col_x, np.unique(x))\n",
    "    except:\n",
    "        pass\n",
    "\n",
    "correlation"
   ]
  },
  {
   "cell_type": "code",
   "execution_count": 77,
   "metadata": {
    "collapsed": false
   },
   "outputs": [
    {
     "data": {
      "text/plain": [
       "TargetHead               1.000\n",
       "TargetHeadRelativeMax    0.381\n",
       "Sex                     -0.229\n",
       "BMI                      0.095\n",
       "Height                   0.072\n",
       "Mass                     0.134\n",
       "BMI_scaled               0.095\n",
       "Height_scaled            0.072\n",
       "Mass_scaled              0.134\n",
       "KKF                      0.262\n",
       "Cirrhosis                0.164\n",
       "ChildPugh               -0.146\n",
       "Advanced                -0.006\n",
       "Activity                -0.239\n",
       "DebutAge                 0.200\n",
       "DebutAge_scaled          0.200\n",
       "DebutLiver              -0.493\n",
       "DebutNeuro               0.590\n",
       "DebutKidney              0.136\n",
       "DebutEndocr             -0.023\n",
       "DebutSibs               -0.119\n",
       "DebutVasku              -0.088\n",
       "DebutGemAnem             0.037\n",
       "DebutSelez                 NaN\n",
       "DebutOther              -0.154\n",
       "F2__1                    0.194\n",
       "F2__1.1                  0.194\n",
       "F5__1                    0.239\n",
       "F5__1.1                  0.239\n",
       "F7__1                    0.123\n",
       "F7__1.1                  0.123\n",
       "F13__1                  -0.109\n",
       "F13__1.1                -0.109\n",
       "ITGA2__1                 0.265\n",
       "ITGA2__1.1               0.265\n",
       "ITGB3__1                 0.021\n",
       "ITGB3__1.1               0.021\n",
       "PAI_1__1                 0.125\n",
       "PAI_1__1.1               0.125\n",
       "FGB__1                   0.123\n",
       "FGB__1.1                 0.123\n",
       "MTHFR_677__1            -0.074\n",
       "MTHFR_677__1.1          -0.074\n",
       "MTHFR_1298__1            0.152\n",
       "MTHFR_1298__1.1          0.152\n",
       "F2__2                    0.194\n",
       "F2__2.1                  0.194\n",
       "F5__2                    0.239\n",
       "F5__2.1                  0.239\n",
       "F7__2                   -0.123\n",
       "F7__2.1                 -0.123\n",
       "F13__2                   0.154\n",
       "F13__2.1                 0.154\n",
       "ITGA2__2                 0.131\n",
       "ITGA2__2.1               0.131\n",
       "ITGB3__2                 0.021\n",
       "ITGB3__2.1               0.021\n",
       "PAI_1__2                 0.259\n",
       "PAI_1__2.1               0.259\n",
       "FGB__2                   0.123\n",
       "FGB__2.1                 0.123\n",
       "MTHFR_677__2            -0.042\n",
       "MTHFR_677__2.1          -0.042\n",
       "MTHFR_1298__2            0.152\n",
       "MTHFR_1298__2.1          0.152\n",
       "F2_GA                    0.194\n",
       "F2_GG                   -0.194\n",
       "F5_GA                    0.239\n",
       "F5_GG                   -0.239\n",
       "F7_GA                    0.123\n",
       "F7_GG                   -0.123\n",
       "F13_GG                   0.054\n",
       "F13_GT                   0.032\n",
       "F13_TT                  -0.154\n",
       "ITGA2_CC                -0.310\n",
       "ITGA2_CT                 0.181\n",
       "ITGA2_TT                 0.131\n",
       "ITGB3_TC                 0.021\n",
       "ITGB3_TT                -0.021\n",
       "PAI_1_4G4G               0.259\n",
       "PAI_1_5G4G              -0.303\n",
       "PAI_1_5G5G               0.065\n",
       "FGB_AA                   0.061\n",
       "FGB_GA                   0.091\n",
       "FGB_GG                  -0.122\n",
       "MTHFR_677_CC             0.072\n",
       "MTHFR_677_CT            -0.045\n",
       "MTHFR_677_TT            -0.042\n",
       "MTHFR_1298_AA           -0.132\n",
       "MTHFR_1298_AC            0.082\n",
       "MTHFR_1298_CC            0.107\n",
       "Name: TargetHead, dtype: float64"
      ]
     },
     "execution_count": 77,
     "metadata": {},
     "output_type": "execute_result"
    }
   ],
   "source": [
    "df_ext.corr()['TargetHead']"
   ]
  },
  {
   "cell_type": "code",
   "execution_count": null,
   "metadata": {
    "collapsed": true
   },
   "outputs": [],
   "source": []
  },
  {
   "cell_type": "markdown",
   "metadata": {},
   "source": [
    "### Анализ Cirrhosis features\n",
    "\n",
    "* Признак 'Cirrhosis' слабее 'Advanced'. В одном случае - неоднозначность сравнения.\n",
    "* Признаки 'Cirrhosis' слабее 'ChildPugh'. В одном случае - неоднозначность сравнения.\n",
    "* Признаки 'Advanced' и 'ChildPugh' дополняют друг друга, признак 'ChildPugh' сильнее.\n",
    "\n",
    "#### По итогам анализа\n",
    "* Проверить аномалии - нет ли в данных опечатки: <br> (df_ext['Cirrhosis'] == 1) &  (df_ext['Advanced'] == 1) <br> (df_ext['Advanced'] == 1) &  (df_ext['ChildPugh'] == 3) <br> (df_ext['Cirrhosis'] == 1) &  (df_ext['ChildPugh'] == 1)\n",
    "* Попробовать использовать в модели один признак для описания цирроза, начиная со слабого: \\['Cirrhosis', 'Advanced', 'ChildPugh'\\]. Прверить, как зависит качество предсказания от силы признака."
   ]
  },
  {
   "cell_type": "code",
   "execution_count": 15,
   "metadata": {
    "collapsed": false
   },
   "outputs": [
    {
     "data": {
      "text/plain": [
       "['Cirrhosis', 'ChildPugh', 'Advanced', 'Activity']"
      ]
     },
     "execution_count": 15,
     "metadata": {},
     "output_type": "execute_result"
    }
   ],
   "source": [
    "cirrhosis_features"
   ]
  },
  {
   "cell_type": "code",
   "execution_count": 17,
   "metadata": {
    "collapsed": false
   },
   "outputs": [
    {
     "name": "stdout",
     "output_type": "stream",
     "text": [
      "[0 1 2]\n",
      "[1 2]\n",
      "(13, 1)\n"
     ]
    },
    {
     "data": {
      "image/png": "[encoded data removed]",
      "text/plain": [
       "<matplotlib.figure.Figure at 0x4424908>"
      ]
     },
     "metadata": {},
     "output_type": "display_data"
    }
   ],
   "source": [
    "# Признаки 'Cirrhosis' и 'ChildPugh'\n",
    "\n",
    "print( np.unique(df_ext['Advanced']) )\n",
    "print( np.unique(df_ext['Cirrhosis']) )\n",
    "\n",
    "print( ( len(df_ext[ (df_ext['Cirrhosis'] == 1) &  (df_ext['Advanced'] == 0) ].index),\n",
    "         len(df_ext[ (df_ext['Cirrhosis'] == 1) &  (df_ext['Advanced'] == 1) ].index) ) )\n",
    "\n",
    "plt.figure(1)\n",
    "\n",
    "plt.subplot(121)\n",
    "plt.rcParams['figure.figsize'] = (9,2)\n",
    "\n",
    "plt.hist2d(df_ext['Advanced'], df_ext['Cirrhosis'], bins=[3,2]) #, cmap = my_cmap, norm=LogNorm())\n",
    "plt.xlabel('Advanced')\n",
    "plt.ylabel('Cirrhosis')\n",
    "plt.colorbar()\n",
    "\n",
    "plt.subplot(122)\n",
    "plt.scatter( np.array(df_ext['Advanced']), np.array(df_ext['Cirrhosis']) )\n",
    "plt.xlabel('Advanced')\n",
    "plt.ylabel('\\nCirrhosis')\n",
    "\n",
    "plt.show()\n"
   ]
  },
  {
   "cell_type": "code",
   "execution_count": 18,
   "metadata": {
    "collapsed": false
   },
   "outputs": [
    {
     "name": "stdout",
     "output_type": "stream",
     "text": [
      "[0 1 2 3]\n",
      "[0 1 2]\n",
      "(11, 4, 1, 17)\n"
     ]
    },
    {
     "data": {
      "image/png": "[encoded data removed]",
      "text/plain": [
       "<matplotlib.figure.Figure at 0xa78ecf8>"
      ]
     },
     "metadata": {},
     "output_type": "display_data"
    }
   ],
   "source": [
    "# Признаки 'Advanced' и 'ChildPugh'\n",
    "\n",
    "print( np.unique(df_ext['ChildPugh']) )\n",
    "print( np.unique(df_ext['Advanced']) )\n",
    "\n",
    "print( ( len(df_ext[ (df_ext['Advanced'] == 1) &  (df_ext['ChildPugh'] == 2) ].index),\n",
    "         len(df_ext[ (df_ext['Advanced'] == 2) &  (df_ext['ChildPugh'] == 2) ].index),\n",
    "         len(df_ext[ (df_ext['Advanced'] == 1) &  (df_ext['ChildPugh'] == 3) ].index),\n",
    "         len(df_ext[ (df_ext['Advanced'] == 2) &  (df_ext['ChildPugh'] == 3) ].index) ) \n",
    "     )\n",
    "\n",
    "plt.figure(1)\n",
    "\n",
    "plt.subplot(121)\n",
    "plt.rcParams['figure.figsize'] = (12,2)\n",
    "plt.hist2d(df_ext['ChildPugh'], df_ext['Advanced'], bins=[4,3]) #, norm=LogNorm())\n",
    "plt.xlabel('ChildPugh')\n",
    "plt.ylabel('Advanced')\n",
    "plt.colorbar()\n",
    "\n",
    "plt.subplot(122)\n",
    "plt.scatter( np.array(df_ext['ChildPugh']), np.array(df_ext['Advanced']) )\n",
    "plt.xlabel('ChildPugh')\n",
    "plt.ylabel('Advanced')\n",
    "\n",
    "plt.show()"
   ]
  },
  {
   "cell_type": "code",
   "execution_count": 19,
   "metadata": {
    "collapsed": false
   },
   "outputs": [
    {
     "name": "stdout",
     "output_type": "stream",
     "text": [
      "[0 1 2 3]\n",
      "[1 2]\n",
      "(13, 1)\n"
     ]
    },
    {
     "data": {
      "image/png": "[encoded data removed]",
      "text/plain": [
       "<matplotlib.figure.Figure at 0xa55e940>"
      ]
     },
     "metadata": {},
     "output_type": "display_data"
    }
   ],
   "source": [
    "# Признаки 'Cirrhosis' и 'ChildPugh'\n",
    "\n",
    "print( np.unique(df_ext['ChildPugh']) )\n",
    "print( np.unique(df_ext['Cirrhosis']) )\n",
    "\n",
    "print( ( len(df_ext[ (df_ext['Cirrhosis'] == 1) &  (df_ext['ChildPugh'] == 0) ].index),\n",
    "         len(df_ext[ (df_ext['Cirrhosis'] == 1) &  (df_ext['ChildPugh'] == 1) ].index) ) )\n",
    "\n",
    "plt.figure(1)\n",
    "\n",
    "plt.subplot(121)\n",
    "plt.rcParams['figure.figsize'] = (12,2)\n",
    "plt.hist2d(df_ext['ChildPugh'], df_ext['Cirrhosis'], bins=[4,2]) #, norm=LogNorm())\n",
    "plt.xlabel('ChildPugh')\n",
    "plt.ylabel('Cirrhosis')\n",
    "plt.colorbar()\n",
    "\n",
    "plt.subplot(122)\n",
    "plt.scatter( np.array(df_ext['ChildPugh']), np.array(df_ext['Cirrhosis']) )\n",
    "plt.xlabel('ChildPugh')\n",
    "plt.ylabel('Cirrhosis')\n",
    "\n",
    "plt.show()\n"
   ]
  },
  {
   "cell_type": "code",
   "execution_count": null,
   "metadata": {
    "collapsed": false
   },
   "outputs": [],
   "source": []
  },
  {
   "cell_type": "code",
   "execution_count": null,
   "metadata": {
    "collapsed": true
   },
   "outputs": [],
   "source": []
  }
 ],
 "metadata": {
  "kernelspec": {
   "display_name": "Python 3",
   "language": "python",
   "name": "python3"
  },
  "language_info": {
   "codemirror_mode": {
    "name": "ipython",
    "version": 3
   },
   "file_extension": ".py",
   "mimetype": "text/x-python",
   "name": "python",
   "nbconvert_exporter": "python",
   "pygments_lexer": "ipython3",
   "version": "3.5.3"
  }
 },
 "nbformat": 4,
 "nbformat_minor": 0
}
