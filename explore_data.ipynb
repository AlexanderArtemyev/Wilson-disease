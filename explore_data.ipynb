{
 "cells": [
  {
   "cell_type": "markdown",
   "metadata": {},
   "source": [
    "## Exploratory data analysis\n",
    "**Изучение данных**"
   ]
  },
  {
   "cell_type": "code",
   "execution_count": null,
   "metadata": {
    "collapsed": false
   },
   "outputs": [],
   "source": [
    "import numpy as np\n",
    "import pandas as pd\n",
    "\n",
    "pd.set_option('display.max_columns', 70)   # Настройка отображения данных в Jupyter notebook\n",
    "pd.set_option('display.max_rows', 100)\n",
    "pd.set_option('precision', 3)\n",
    "\n",
    "%pylab inline\n",
    "# Visualization and Graphics\n",
    "%matplotlib inline\n",
    "import matplotlib.pyplot as plt\n",
    "\n",
    "# !conda install seaborn \n",
    "import seaborn as sns\n",
    "plt.rcParams['figure.figsize'] = (7,7)   # (8,6)\n",
    "\n",
    "#!pip install ggplot\n",
    "matplotlib.style.use('ggplot')       # Use ggplot style plots"
   ]
  },
  {
   "cell_type": "code",
   "execution_count": null,
   "metadata": {
    "collapsed": false
   },
   "outputs": [],
   "source": [
    "# Чтение данных из сохранённого файла\n",
    "\n",
    "df_ext = pd.DataFrame()\n",
    "df_ext = pd.read_csv('./Wilson_ext.csv', sep=';', encoding='utf-8') \n",
    "print(df_ext.columns)"
   ]
  },
  {
   "cell_type": "markdown",
   "metadata": {},
   "source": [
    "### Группировка и комбинирование признаков\n",
    "#### Группы признаков\n",
    "Группы выделены в соответствии со смыслом данных, логикой их использования и обработки, форматом представления данных.\n",
    "<br> Группы сформированы в файле `preprocess_data__New.ipynb`\n",
    "- `target`\n",
    "- `relatives`\n",
    "- `sex`, `sex_cat`\n",
    "- `bmi`, `bmi_scaled`\n",
    "- `symptom`\n",
    "- `cirrhosis`\n",
    "- `debut_age`, `debut_age_scaled`\n",
    "- `debut_organ`\n",
    "- `genetic`\n",
    "- `genetic_dummy`\n",
    "- `genetic__1`, `genetic__2`\n",
    "- `genetic_risk__1`, `genetic_risk__2`\n",
    "- `genetic_risk__1_scaled`, `genetic_risk__2_scaled`\n",
    "- `data`\n",
    "- `exclude`, `exclude_model`\n",
    "\n",
    "<br> Вспомогательные признаки\n",
    "- `num_to_scale`\n",
    "- `num_scaled`\n",
    "- `genetic_risk`\n",
    "- `genetic_risk_scaled`"
   ]
  },
  {
   "cell_type": "code",
   "execution_count": null,
   "metadata": {
    "collapsed": true
   },
   "outputs": [],
   "source": [
    "# !conda install simplejson\n",
    "%run data_to_json"
   ]
  },
  {
   "cell_type": "code",
   "execution_count": null,
   "metadata": {
    "collapsed": true
   },
   "outputs": [],
   "source": [
    "from collections import OrderedDict"
   ]
  },
  {
   "cell_type": "code",
   "execution_count": null,
   "metadata": {
    "collapsed": false
   },
   "outputs": [],
   "source": [
    "features_file = open('features_file.json', 'r')\n",
    "features = json_to_data( features_file.read() )\n",
    "features_file.close()\n",
    "\n",
    "print(features)\n",
    "type(features)"
   ]
  },
  {
   "cell_type": "markdown",
   "metadata": {},
   "source": [
    "#### Комбинация признаков"
   ]
  },
  {
   "cell_type": "code",
   "execution_count": null,
   "metadata": {
    "collapsed": true
   },
   "outputs": [],
   "source": [
    "def combine_features(all_feat_list, exclude_features):\n",
    "    combined_list = list()\n",
    "    for sublist in all_feat_list:\n",
    "        for item in sublist:\n",
    "            combined_list.append(item)\n",
    "    combined_list = [x for x in combined_list if x not in exclude_features]\n",
    "    return(combined_list)"
   ]
  },
  {
   "cell_type": "markdown",
   "metadata": {},
   "source": [
    "### Первичное описание данных"
   ]
  },
  {
   "cell_type": "code",
   "execution_count": null,
   "metadata": {
    "collapsed": false
   },
   "outputs": [],
   "source": [
    "df_ext.describe().T"
   ]
  },
  {
   "cell_type": "markdown",
   "metadata": {},
   "source": [
    "### Корреляция признаков с целевым показателем: `TargetHead`"
   ]
  },
  {
   "cell_type": "code",
   "execution_count": null,
   "metadata": {
    "collapsed": false
   },
   "outputs": [],
   "source": [
    "import scipy.stats  as stats\n",
    "\n",
    "correlation = list()\n",
    "for i in range(len(df_ext.columns)):\n",
    "    col_x = df_ext.columns[i]\n",
    "    #print(col_x)\n",
    "    df_xy = df_ext[[col_x, 'TargetHead']].dropna()\n",
    "    x, y = df_xy.iloc[:,0].values, df_xy.iloc[:,1].values\n",
    "    try:\n",
    "        x = [float(i) for i in x]\n",
    "        y = [float(i) for i in y]\n",
    "        \n",
    "        corr_pearson = stats.pearsonr(x, y)\n",
    "        corr_pearson_value   = corr_pearson[0]\n",
    "        corr_pearson_p_value = corr_pearson[1]\n",
    "        #corr_s = stats.spearmanr(x, y)\n",
    "        if corr_pearson_p_value < 0.1:\n",
    "            correlation.append([col_x, corr_pearson_value, corr_pearson_p_value])    #, corr_s ])\n",
    "        #print(col_x, np.unique(x))\n",
    "    except:\n",
    "        pass\n",
    "\n",
    "correlation"
   ]
  },
  {
   "cell_type": "code",
   "execution_count": null,
   "metadata": {
    "collapsed": false
   },
   "outputs": [],
   "source": [
    "df_ext.corr()['TargetHead']"
   ]
  },
  {
   "cell_type": "markdown",
   "metadata": {},
   "source": [
    "### Анализ Cirrhosis features\n",
    "Что в данных:\n",
    "* Признак 'Cirrhosis' слабее 'Advanced'. В одном случае - неоднозначность сравнения.\n",
    "* Признаки 'Cirrhosis' слабее 'ChildPugh'. В одном случае - неоднозначность сравнения.\n",
    "* Признаки 'Advanced' и 'ChildPugh' дополняют друг друга, признак 'ChildPugh' сильнее.\n",
    "\n",
    "#### По итогам анализа\n",
    "* Проверить аномалии - нет ли в данных опечатки: <br> (df_ext['Cirrhosis'] == 1) &  (df_ext['Advanced'] == 1) <br> (df_ext['Advanced'] == 1) &  (df_ext['ChildPugh'] == 3) <br> (df_ext['Cirrhosis'] == 1) &  (df_ext['ChildPugh'] == 1)\n",
    "* Попробовать использовать в модели один признак для описания цирроза, начиная со слабого: \\['Cirrhosis', 'Advanced', 'ChildPugh'\\]. Прверить, как зависит качество предсказания от силы признака."
   ]
  },
  {
   "cell_type": "code",
   "execution_count": null,
   "metadata": {
    "collapsed": false
   },
   "outputs": [],
   "source": [
    "features['cirrhosis']"
   ]
  },
  {
   "cell_type": "code",
   "execution_count": null,
   "metadata": {
    "collapsed": false
   },
   "outputs": [],
   "source": [
    "# Признаки 'Cirrhosis' и 'ChildPugh'\n",
    "\n",
    "print( np.unique(df_ext['Advanced']) )\n",
    "print( np.unique(df_ext['Cirrhosis']) )\n",
    "\n",
    "print( ( len(df_ext[ (df_ext['Cirrhosis'] == 1) &  (df_ext['Advanced'] == 0) ].index),\n",
    "         len(df_ext[ (df_ext['Cirrhosis'] == 1) &  (df_ext['Advanced'] == 1) ].index) ) )\n",
    "\n",
    "plt.figure(1)\n",
    "\n",
    "plt.subplot(121)\n",
    "plt.rcParams['figure.figsize'] = (9,2)\n",
    "\n",
    "plt.hist2d(df_ext['Advanced'], df_ext['Cirrhosis'], bins=[3,2]) #, cmap = my_cmap, norm=LogNorm())\n",
    "plt.xlabel('Advanced')\n",
    "plt.ylabel('Cirrhosis')\n",
    "plt.colorbar()\n",
    "\n",
    "plt.subplot(122)\n",
    "plt.scatter( np.array(df_ext['Advanced']), np.array(df_ext['Cirrhosis']) )\n",
    "plt.xlabel('Advanced')\n",
    "plt.ylabel('\\nCirrhosis')\n",
    "\n",
    "plt.show()\n"
   ]
  },
  {
   "cell_type": "code",
   "execution_count": null,
   "metadata": {
    "collapsed": false
   },
   "outputs": [],
   "source": [
    "# Признаки 'Advanced' и 'ChildPugh'\n",
    "\n",
    "print( np.unique(df_ext['ChildPugh']) )\n",
    "print( np.unique(df_ext['Advanced']) )\n",
    "\n",
    "print( ( len(df_ext[ (df_ext['Advanced'] == 1) &  (df_ext['ChildPugh'] == 2) ].index),\n",
    "         len(df_ext[ (df_ext['Advanced'] == 2) &  (df_ext['ChildPugh'] == 2) ].index),\n",
    "         len(df_ext[ (df_ext['Advanced'] == 1) &  (df_ext['ChildPugh'] == 3) ].index),\n",
    "         len(df_ext[ (df_ext['Advanced'] == 2) &  (df_ext['ChildPugh'] == 3) ].index) ) \n",
    "     )\n",
    "\n",
    "plt.figure(1)\n",
    "\n",
    "plt.subplot(121)\n",
    "plt.rcParams['figure.figsize'] = (12,2)\n",
    "plt.hist2d(df_ext['ChildPugh'], df_ext['Advanced'], bins=[4,3]) #, norm=LogNorm())\n",
    "plt.xlabel('ChildPugh')\n",
    "plt.ylabel('Advanced')\n",
    "plt.colorbar()\n",
    "\n",
    "plt.subplot(122)\n",
    "plt.scatter( np.array(df_ext['ChildPugh']), np.array(df_ext['Advanced']) )\n",
    "plt.xlabel('ChildPugh')\n",
    "plt.ylabel('Advanced')\n",
    "\n",
    "plt.show()"
   ]
  },
  {
   "cell_type": "code",
   "execution_count": null,
   "metadata": {
    "collapsed": false
   },
   "outputs": [],
   "source": [
    "# Признаки 'Cirrhosis' и 'ChildPugh'\n",
    "\n",
    "print( np.unique(df_ext['ChildPugh']) )\n",
    "print( np.unique(df_ext['Cirrhosis']) )\n",
    "\n",
    "print( ( len(df_ext[ (df_ext['Cirrhosis'] == 1) &  (df_ext['ChildPugh'] == 0) ].index),\n",
    "         len(df_ext[ (df_ext['Cirrhosis'] == 1) &  (df_ext['ChildPugh'] == 1) ].index) ) )\n",
    "\n",
    "plt.figure(1)\n",
    "\n",
    "plt.subplot(121)\n",
    "plt.rcParams['figure.figsize'] = (12,2)\n",
    "plt.hist2d(df_ext['ChildPugh'], df_ext['Cirrhosis'], bins=[4,2]) #, norm=LogNorm())\n",
    "plt.xlabel('ChildPugh')\n",
    "plt.ylabel('Cirrhosis')\n",
    "plt.colorbar()\n",
    "\n",
    "plt.subplot(122)\n",
    "plt.scatter( np.array(df_ext['ChildPugh']), np.array(df_ext['Cirrhosis']) )\n",
    "plt.xlabel('ChildPugh')\n",
    "plt.ylabel('Cirrhosis')\n",
    "\n",
    "plt.show()\n"
   ]
  },
  {
   "cell_type": "code",
   "execution_count": null,
   "metadata": {
    "collapsed": false
   },
   "outputs": [],
   "source": []
  }
 ],
 "metadata": {
  "kernelspec": {
   "display_name": "Python 3",
   "language": "python",
   "name": "python3"
  },
  "language_info": {
   "codemirror_mode": {
    "name": "ipython",
    "version": 3
   },
   "file_extension": ".py",
   "mimetype": "text/x-python",
   "name": "python",
   "nbconvert_exporter": "python",
   "pygments_lexer": "ipython3",
   "version": "3.5.3"
  }
 },
 "nbformat": 4,
 "nbformat_minor": 0
}
